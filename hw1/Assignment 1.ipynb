{
  "cells": [
    {
      "cell_type": "markdown",
      "metadata": {
        "id": "v9STXotNNKeI"
      },
      "source": [
        "# CS247 Advanced Data Mining - Assignment 1\n",
        "## Deadline: 11:59PM, January 24, 2023\n",
        "\n",
        "## Instructions\n",
        "Each assignment is structured as a Jupyter notebook, offering interactive tutorials that align with our lectures. You will encounter two types of problems: *write-up problems* and *coding problems*.\n",
        "\n",
        "1. **Write-up Problems:** These problems are primarily theoretical, requiring you to demonstrate your understanding of lecture concepts and to provide mathematical proofs for key theorems. Your answers should include sufficient steps for the mathematical derivations.\n",
        "2. **Coding Problems:** Here, you will be engaging with practical coding tasks. These may involve completing code segments provided in the notebooks or developing models from scratch.\n",
        "\n",
        "To ensure clarity and consistency in your submissions, please adhere to the following guidelines:\n",
        "\n",
        "* For write-up problems, use Markdown bullet points to format text answers. Also, express all mathematical equations using $\\LaTeX$ and avoid plain text such as `x0`, `x^1`, or `R x Q` for equations.\n",
        "* For coding problems, comment on your code thoroughly for readability and ensure your code is executable. Non-runnable code may lead to a loss of **all** points. Coding problems have automated grading, and altering the grading code will result in a deduction of **all** points.\n",
        "* Your submission should show the entire process of data loading, preprocessing, model implementation, training, and result analysis. This can be achieved through a mix of explanatory text cells, inline comments, intermediate result displays, and experimental visualizations.\n",
        "\n",
        "### Submission Requirements\n",
        "\n",
        "* Submit your solutions through GradeScope in BruinLearn.\n",
        "* Late submissions are allowed up to 24 hours post-deadline with a penalty factor of $\\mathbf{1}(t\\leq24)e^{-(\\ln(2)/12)t}$.\n",
        "\n",
        "### Collaboration and Integrity\n",
        "\n",
        "* Collaboration is encouraged, but all final submissions must be your own work. Please acknowledge any collaboration or external sources used, including websites, papers, and GitHub repositories.\n",
        "* Any suspicious cases of academic misconduct will be reported to The Office of the Dean of Students.\n",
        "\n",
        "## Outline\n",
        "* Problem 1: Naïve Bayes (50 points)\n",
        "* Problem 2: Logistic Regression (50 points)\n",
        "* Problem 3: Gaussian Mixture Models (70 points + 10 bonus points)"
      ]
    },
    {
      "cell_type": "markdown",
      "metadata": {
        "id": "OLL3omvHNKeN"
      },
      "source": [
        "## Problem 1: Naïve Bayes (50 points) <a class=\"anchor\" id=\"problem-1\"></a>"
      ]
    },
    {
      "cell_type": "markdown",
      "metadata": {
        "id": "3kiTeWHwNKeO"
      },
      "source": [
        "### Exercise 1.1: MLE Estimation of Model Parameters (10 points)\n",
        "\n",
        "Recall that given a corpus and labels for each document $D = \\{(\\boldsymbol{x}_d, y_d)\\}_{d=1}^{|D|}$, the log likelihood function of a Bayes model parameterized by $\\Theta = (\\boldsymbol\\beta_1, \\boldsymbol\\beta_2, \\boldsymbol\\beta_3, \\boldsymbol\\pi)$ is:\n",
        "$$\n",
        "\\begin{align}\n",
        "\\mathcal{L}(\\Theta) & = \\log \\prod_{d=1}^{|D|} p(\\boldsymbol{x}_d, y_d | \\Theta) \\\\\n",
        "& = \\sum_{d=1}^{|D|} \\log p(\\boldsymbol{x}_d, y_d | \\Theta) \\\\\n",
        "& = \\sum_{d=1}^{|D|} \\log [p(\\boldsymbol{x}_d | y_d, \\Theta) p(y_d | \\Theta)] \\\\\n",
        "& = \\sum_{d=1}^{|D|} \\left(\\sum_{n=1}^{N}x_{dn}\\log\\beta_{y_d,n} + \\log \\pi_{y_d}\\right).\n",
        "\\end{align}\n",
        "$$\n",
        "Show the MLE estimator of $\\boldsymbol\\beta$. Include necessary derivatives in your answer. (Hint: use Lagrange multipliers to enforce the constraint $\\sum_{n=1}^{N}\\beta_{j,n} = 1$ for all $j$.)"
      ]
    },
    {
      "cell_type": "markdown",
      "metadata": {
        "id": "f-Swtoz_NKeO"
      },
      "source": [
        "**[TODO: Write your answer here]**\n",
        "\n",
        "Expressing the log-likelihood with Lagrangian multipliers, we get:\n",
        "$$\n",
        "\\begin{align*}\n",
        "    \\mathcal{L}(\\mathbf{\\beta}, \\mathbf{\\lambda}) = \\sum_{d=1}^{|D|} \\left(\\sum_{n=1}^{N}x_{dn}\\log\\beta_{y_d,n} + \\log \\pi_{y_d}\\right) + \\sum_{j=1}^{J}\\lambda_j \\left(1 -  \\sum_{n=1}^N \\beta_{j,n}\\right)\n",
        "\\end{align*}\n",
        "$$\n",
        "\n",
        "Taking the partial derivatives with respect to $\\beta_{j,n}$:\n",
        "$$\n",
        "\\begin{align*}\n",
        "    \\frac{\\partial\\mathcal{L}}{\\partial\\beta_{j,n}} &= \\sum_{\\{d:y_d=j\\}} \\frac{x_{dn}}{\\beta_{j,n}} - \\lambda_j = 0 \\\\\n",
        "    \\sum_{\\{d:y_d=j\\}} \\frac{x_{dn}}{\\beta_{j,n}} & = \\lambda_j \\\\\n",
        "    \\sum_{\\{d:y_d=j\\}} x_{dn} & = \\lambda_j\\beta_{j,n} \\\\\n",
        "    \\beta_{j,n} & = \\frac{1}{\\lambda_j} \\sum_{\\{d:y_d=j\\}} x_{dn}\n",
        "\\end{align*}\n",
        "$$\n",
        "\n",
        "With the constraint $\\sum_{n=1}^{N}\\beta_{j,n} = 1$, we have:\n",
        "$$\n",
        "\\begin{align*}\n",
        "    \\sum_{n=1}^{N} & \\frac{1}{\\lambda_j} \\sum_{\\{d:y_d=j\\}} x_{dn} = 1 \\\\\n",
        "    \\frac{1}{\\lambda_j} & \\sum_{n=1}^{N} \\sum_{\\{d:y_d=j\\}} x_{dn} = 1 \\\\\n",
        "    \\lambda_j & = \\sum_{n=1}^{N} \\sum_{\\{d:y_d=j\\}} x_{dn}\n",
        "\\end{align*}\n",
        "$$\n",
        "\n",
        "Substituting back into the partial derivative equation, we get:\n",
        "$$\n",
        "\\beta_{j,n} = \\frac{\\sum_{\\{d:y_d=j\\}} x_{dn}}{\\sum_{n=1}^{N} \\sum_{\\{d:y_d=j\\}} x_{dn}}\n",
        "$$"
      ]
    },
    {
      "cell_type": "markdown",
      "metadata": {
        "id": "kMJA-x1cNKeP"
      },
      "source": [
        "### Execrise 1.2: Implementation of Naïve Bayes in scikit-learn (10 points)\n",
        "\n",
        "In this exercise, you will learn the basics of using scikit-learn to implement a Naïve Bayes classifier. We will use the [Sentiment Polarity Dataset Version 2.0](https://www.cs.cornell.edu/people/pabo/movie-review-data/) for this exercise. This dataset contains 1000 positive and 1000 negative reviews. We have provided the code for dataset preprocessing."
      ]
    },
    {
      "cell_type": "code",
      "execution_count": 2,
      "metadata": {
        "id": "F0rKEOkBNKeP"
      },
      "outputs": [],
      "source": [
        "# Download and load the dataset\n",
        "\n",
        "import nltk\n",
        "from sklearn.datasets import load_files\n",
        "\n",
        "nltk.download('movie_reviews', download_dir='.', quiet=True)\n",
        "reviews = load_files('./corpora/movie_reviews', shuffle=True)"
      ]
    },
    {
      "cell_type": "code",
      "execution_count": 3,
      "metadata": {
        "colab": {
          "base_uri": "https://localhost:8080/"
        },
        "id": "_X0DlccQNKeR",
        "outputId": "2a5514f8-7ddf-4a7f-c423-dd1d26c00f61"
      },
      "outputs": [
        {
          "output_type": "execute_result",
          "data": {
            "text/plain": [
              "['neg', 'pos']"
            ]
          },
          "metadata": {},
          "execution_count": 3
        }
      ],
      "source": [
        "# Sentiment analysis: `neg` for negative sentiment, `pos` for positive sentiment\n",
        "reviews.target_names"
      ]
    },
    {
      "cell_type": "code",
      "execution_count": 4,
      "metadata": {
        "colab": {
          "base_uri": "https://localhost:8080/"
        },
        "id": "TdsfsfqTNKeR",
        "outputId": "2e3daffc-0f86-4d9d-e9c0-51c5e3641edc"
      },
      "outputs": [
        {
          "output_type": "execute_result",
          "data": {
            "text/plain": [
              "2000"
            ]
          },
          "metadata": {},
          "execution_count": 4
        }
      ],
      "source": [
        "# Number of reviews\n",
        "len(reviews.data)"
      ]
    },
    {
      "cell_type": "code",
      "execution_count": 5,
      "metadata": {
        "id": "j1hRIKnsNKeS"
      },
      "outputs": [],
      "source": [
        "# Split the dataset into training and test sets\n",
        "\n",
        "from sklearn.model_selection import train_test_split\n",
        "reviews_train, reviews_test, y_train, y_test = train_test_split(\n",
        "    reviews.data, reviews.target, test_size=0.20, random_state=12)"
      ]
    },
    {
      "cell_type": "code",
      "execution_count": 6,
      "metadata": {
        "id": "rxK9W8FENKeS"
      },
      "outputs": [],
      "source": [
        "# Dataset preprocessing: convert reviews to a matrix of token counts\n",
        "\n",
        "from sklearn.feature_extraction.text import CountVectorizer\n",
        "\n",
        "count_vect = CountVectorizer().fit(reviews.data)\n",
        "X_train = count_vect.transform(reviews_train).toarray()\n",
        "X_test = count_vect.transform(reviews_test).toarray()"
      ]
    },
    {
      "cell_type": "markdown",
      "metadata": {
        "id": "hvPkNwD1NKeS"
      },
      "source": [
        "#### Exercise 1.2.1 (8 points)\n",
        "Train the multinomial Naïve Bayes model on the training set and test it on the test set. Report the accuracy of the model on the test set.\n",
        "You would be able to achieve accuracy of around 80% on the test set.\n",
        "\n",
        "(Hint: Refer to the [scikit-learn documentation](https://scikit-learn.org/stable/modules/generated/sklearn.naive_bayes.MultinomialNB.html) for more details on how to use the `MultinomialNB` class.)"
      ]
    },
    {
      "cell_type": "code",
      "execution_count": 7,
      "metadata": {
        "colab": {
          "base_uri": "https://localhost:8080/"
        },
        "id": "pKQ8_k2RNKeS",
        "outputId": "54186381-98b0-4241-afaa-acfadbc15508"
      },
      "outputs": [
        {
          "output_type": "stream",
          "name": "stdout",
          "text": [
            "Model performance on the test set: 0.8175\n"
          ]
        }
      ],
      "source": [
        "# Train and test with MultinomialNB\n",
        "\n",
        "import numpy as np\n",
        "from sklearn.naive_bayes import MultinomialNB\n",
        "\n",
        "clf = MultinomialNB()\n",
        "\n",
        "# TODO: Use the `MultinomialNB` class to train the model on the training set and test it on the test set\n",
        "clf.fit(X_train, y_train)\n",
        "y_pred = clf.predict(X_test)\n",
        "\n",
        "# TODO: Report the accuracy of the model on the test set\n",
        "from sklearn.metrics import accuracy_score\n",
        "accuracy = accuracy_score(y_test, y_pred)\n",
        "print(\"Model performance on the test set:\", accuracy)"
      ]
    },
    {
      "cell_type": "markdown",
      "metadata": {
        "id": "19jDcD6UNKeT"
      },
      "source": [
        "#### Exercise 1.2.2 (2 points)\n",
        "There are two functions of the Naïve Bayes classifier in order to get the probabilities of the predictions: `predict_proba` and `predict_log_proba`. What is the difference between them? What is the advantage of using `predict_log_proba` over `predict_proba`?\n",
        "\n",
        "(Hint: If you are unsure about this question, please proceed to Exercise 1.3.1 and come back to this question later.)"
      ]
    },
    {
      "cell_type": "markdown",
      "metadata": {
        "id": "IZEakh64NKeT"
      },
      "source": [
        "**[TODO: Write your answer here]**\n",
        "Using `predict_proba` yields probabilites of classes for a given sample, while using `predict_log_proba` yields the log probabilities of the same. The latter is advantages due to be more stable (i.e., no risk of underflow due to summing log probs as opposed to multiplying probs) and potentially more efficient computationally."
      ]
    },
    {
      "cell_type": "markdown",
      "metadata": {
        "id": "Tk_vjavLNKeT"
      },
      "source": [
        "### Exercise 1.3: Your Implementation of Naïve Bayes (30 points)\n",
        "\n",
        "In this exercise, you will implement a Naïve Bayes classifier by yourself and compare it with the scikit-learn implementation. You will use the same dataset as in Exercise 1.2.\n",
        "We have provided a code skeleton for your implementation."
      ]
    },
    {
      "cell_type": "markdown",
      "metadata": {
        "id": "yDZxuzVmNKeT"
      },
      "source": [
        "#### Exercise 1.3.1 (24 points)\n",
        "Implement the `fit`, `predict_proba`, and `predict_log_proba` methods in the `NaiveBayes` class, according to what we have learned from lectures.\n",
        "Each implementation is worth 8 points.\n",
        "Please try to optimize for efficiency. Your code should run in seconds."
      ]
    },
    {
      "cell_type": "code",
      "execution_count": 8,
      "metadata": {
        "id": "qQaG3G11NKeT"
      },
      "outputs": [],
      "source": [
        "class NaiveBayes(object):\n",
        "    \"\"\"\n",
        "    Your implementation of Naive Bayes classifier.\n",
        "    \"\"\"\n",
        "\n",
        "    def __init__(self, alpha=1.0):\n",
        "        \"\"\"\n",
        "        Initialize the Naive Bayes classifier.\n",
        "\n",
        "        Parameters\n",
        "        ----------\n",
        "        alpha : float, default=1.0\n",
        "            Additive (Laplace/Lidstone) smoothing parameter\n",
        "            (0 for no smoothing).\n",
        "        \"\"\"\n",
        "\n",
        "        self.alpha = alpha\n",
        "\n",
        "    def fit(self, X, y):\n",
        "        \"\"\"\n",
        "        Fit the Naive Bayes classifier on the training set (X, y).\n",
        "\n",
        "        Parameters\n",
        "        ----------\n",
        "        X : array-like, shape (n_samples, n_features)\n",
        "            Training vectors, where n_samples is the number of samples\n",
        "            and n_features is the number of features.\n",
        "        y : array-like, shape (n_samples,)\n",
        "            Target values.\n",
        "        \"\"\"\n",
        "\n",
        "        self.n_features = X.shape[1]\n",
        "        self.n_samples = X.shape[0]\n",
        "        self.n_classes = np.unique(y).shape[0]\n",
        "\n",
        "        self.beta = np.zeros((self.n_classes, self.n_features))\n",
        "        self.pi = np.zeros(self.n_classes)\n",
        "\n",
        "        # TODO: Given (X, y), compute the parameters `beta` and `pi`\n",
        "        # (Hint: Calculate `beta` according to the frequencies of words\n",
        "        #    and `pi` according to the class frequencies.\n",
        "        #    Remember to consider `alpha` for the Laplace smoothing.)\n",
        "        for cls in range(self.n_classes):\n",
        "            X_cls = X[y == cls]\n",
        "            self.beta[cls, :] = (X_cls.sum(axis=0) + self.alpha) / (X_cls.sum() + self.alpha * self.n_features)\n",
        "            self.pi[cls] = X_cls.shape[0] / float(self.n_samples)\n",
        "\n",
        "        self.log_beta = np.log(self.beta)\n",
        "        self.log_pi = np.log(self.pi)\n",
        "\n",
        "    def predict_proba(self, X):\n",
        "        \"\"\"\n",
        "        Return posterior probabilities of classification for X.\n",
        "\n",
        "        Parameters\n",
        "        ----------\n",
        "        X : array-like, shape (n_samples, n_features)\n",
        "            Test vectors, where n_samples is the number of samples\n",
        "            and n_features is the number of features.\n",
        "\n",
        "        Returns\n",
        "        -------\n",
        "        y_prob : array-like, shape (n_samples, n_classes)\n",
        "            Posterior probabilities of classification per class.\n",
        "        \"\"\"\n",
        "\n",
        "        # TODO: Given `X``, return the posterior probabilities of classification\n",
        "        # (Hint: Use `beta`` and `pi`. Remember to normalize the probabilities.)\n",
        "\n",
        "        # Calculate the unnormalized posterior probabilities\n",
        "        probs = np.zeros((X.shape[0], self.n_classes))\n",
        "        for c in range(self.n_classes):\n",
        "            probs[:, c] = np.prod(self.beta[c, :] ** X * (1 - self.beta[c, :]) ** (1 - X), axis=1) * self.pi[c]\n",
        "\n",
        "        # Normalize the probabilities\n",
        "        probs /= probs.sum(axis=1, keepdims=True)\n",
        "\n",
        "        return probs\n",
        "\n",
        "    def predict_log_proba(self, X):\n",
        "        \"\"\"\n",
        "        Return posterior log probabilities of classification for X.\n",
        "\n",
        "        Parameters\n",
        "        ----------\n",
        "        X : array-like, shape (n_samples, n_features)\n",
        "            Test vectors, where n_samples is the number of samples\n",
        "            and n_features is the number of features.\n",
        "\n",
        "        Returns\n",
        "        -------\n",
        "        y_log_prob : array-like, shape (n_samples, n_classes)\n",
        "            Posterior log probabilities of classification per class.\n",
        "        \"\"\"\n",
        "\n",
        "        # TODO: Given X, return the posterior log probabilities of classification\n",
        "        # (Hint: Use `log_beta`` and `log_pi`.)\n",
        "        log_probs = np.dot(X, self.log_beta.T) + self.log_pi\n",
        "        # Normalizing to prevent underflow issues\n",
        "        log_probs -= log_probs.max(axis=1, keepdims=True)\n",
        "        return log_probs - np.log(np.sum(np.exp(log_probs), axis=1, keepdims=True))\n",
        "\n",
        "    def predict(self, X):\n",
        "        \"\"\"\n",
        "        Perform classification on an array of test vectors X.\n",
        "\n",
        "        Parameters\n",
        "        ----------\n",
        "        X : array-like, shape (n_samples, n_features)\n",
        "            Test vectors.\n",
        "\n",
        "        Returns\n",
        "        -------\n",
        "        y_pred : array, shape (n_samples,)\n",
        "            Predicted target values for X.\n",
        "        \"\"\"\n",
        "        return self.predict_log_proba(X).argmax(axis=1)"
      ]
    },
    {
      "cell_type": "code",
      "execution_count": 9,
      "metadata": {
        "id": "w3yLTvP6NKeT"
      },
      "outputs": [],
      "source": [
        "my_clf = NaiveBayes()\n",
        "my_clf.fit(X_train, y_train)\n",
        "\n",
        "# Sanity checks\n",
        "assert my_clf.n_features == X_train.shape[1]\n",
        "assert my_clf.n_samples == X_train.shape[0]\n",
        "assert my_clf.n_classes == np.unique(y_train).shape[0]\n",
        "assert my_clf.beta.shape == (my_clf.n_classes, my_clf.n_features)\n",
        "assert my_clf.pi.shape == (my_clf.n_classes,)\n",
        "assert np.isclose(my_clf.pi.sum(), 1)\n",
        "assert np.allclose(my_clf.beta.sum(axis=1), 1)"
      ]
    },
    {
      "cell_type": "markdown",
      "metadata": {
        "id": "-1aJaNa-NKeU"
      },
      "source": [
        "#### Exercise 1.3.2 (6 points)\n",
        "\n",
        "Compare the performance of your implementation with sklearn's implementation on the test set.\n",
        "Report the accuracy of both implementations on the test set.\n",
        "Ideally, you should be able to achieve accuracy of around 80% on the test set, similar to the scikit-learn implementation."
      ]
    },
    {
      "cell_type": "code",
      "execution_count": 10,
      "metadata": {
        "colab": {
          "base_uri": "https://localhost:8080/"
        },
        "id": "xN4Jtxw2NKeU",
        "outputId": "12a0bc07-bb1c-49b1-8e6e-46cb052b8bd9"
      },
      "outputs": [
        {
          "output_type": "stream",
          "name": "stdout",
          "text": [
            "Model performance on the test set: 0.8175\n"
          ]
        }
      ],
      "source": [
        "# TODO: Report the accuracy of your implementation on the test set\n",
        "# Example usage\n",
        "nb = NaiveBayes()\n",
        "nb.fit(X_train, y_train)\n",
        "\n",
        "# Predict on the test set\n",
        "y_pred = nb.predict(X_test)\n",
        "\n",
        "# Calculate accuracy\n",
        "accuracy = np.mean(y_pred == y_test)\n",
        "print(\"Model performance on the test set:\", accuracy)"
      ]
    },
    {
      "cell_type": "markdown",
      "metadata": {
        "id": "PdqbTJt_NKeU"
      },
      "source": [
        "## Problem 2: Logistic Regression (50 points)\n",
        "\n",
        "In this problem, we review the classification model known as logistic regression. This model is motivated from a probabilistic perspective, hence we start with this formulation. In the following, we assume that:\n",
        "- Data (boldfont, uppercase X) $\\mathbf{X} \\in \\mathbb{R}^{n\\times d}$, $n$ is the number of data points and $d$ the number of features.\n",
        "- $\\mathbf{x}_i$ is a single data point and $\\mathbf{x}_i \\in \\mathbb{R}^d$.\n",
        "- $\\mathbf{Y} \\in \\mathbb{R}^n$ are the labels of the data points, $Y_i$ is the label of $\\mathbf{x}_i$.\n",
        "- We denote (uppercase letter) $X,Y,Z$,... to be __random variables__, which are measurable maps from the sample space to the real line: $X: \\Omega \\rightarrow \\mathbb{R}$\n",
        "- We denote $P_X$ to be the __probability distribution__ associated with the random variable $X$.\n",
        "- We denote $f_X$ to be the __probability density function (pdf)__ associated with the random variable $X$, if it exists. If the random variable is discrete, then we also use $P_X$ to denote its __probability mass function (pmf)__."
      ]
    },
    {
      "cell_type": "markdown",
      "metadata": {
        "id": "iriFq4CVNKeU"
      },
      "source": [
        "### Exercise 2.1: Maximum Likelihood Formulation (12 points)\n",
        "\n",
        "Maximum Likelihood Estimation (MLE) is the most standard probabilistic learning framework. In this formulation, we:\n",
        "- Assume that __conditional distribution of label given data__, $P(\\mathbf{Y}\\mid\\mathbf{X})$, follows a parametric probabilistic distribution.\n",
        "- Assume that data pairs are sampled __independently and identically (i.i.d)__ from the distribution. This means $P_{Y\\mid X} := P(\\mathbf{Y}\\mid\\mathbf{X}) = \\prod_{i=1}^n P(\\mathbf{y}_i\\mid\\mathbf{x}_i)$.\n",
        "\n",
        "__As a technical note__, here $P$ is the probability distribution for the random variable $Y\\mid\\mathbf{X}$, not the _probability density function (pdf)_; however, for well-behaved distributions, such as those from the __exponential family__ (including Gaussian, Bernoulli, Poisson, Exponential, etc.), we can just use their pdfs in the case of independence. This means if i.i.d assumption holds, then the joint density function factorizes:\n",
        "$$\n",
        "f_{X}(x_1,x_2,\\cdots, x_n) = f_{X_1,X_2,\\cdots, X_n}(x_1,x_2,\\cdots, x_n) = \\prod_{i=1}^n f_{X_i}(x_i)\n",
        "$$\n",
        "\n",
        "__Example__: In the case of linear regression, we have that $P_{y_i\\mid\\mathbf{X}_i} \\sim \\mathcal{N}(y_i; W^\\top \\mathbf{X}_i + b_i, \\Sigma)$. In this case we have\n",
        "$$\n",
        "f_{Y\\mid X}(x_1, x_2, \\cdots, x_n, y_1, \\cdots, y_n) = \\prod_{i=1}^n f_{Y_i\\mid X_i}(x_i) = \\prod_{i=1}^n \\frac{1}{(2\\pi)^{d/2}|\\Sigma|^{1/2}}\\exp \\left\\{-\\frac{1}{2} (y_i - W^\\top \\mathbf{x}_i - b_i)^\\top \\Sigma^{-1} (y_i - W^\\top \\mathbf{x}_i-b_i) \\right\\}\n",
        "$$\n",
        "\n",
        "To perform a MLE inference, we need to obtain the __likelihood function__, which for exponential family distributions, can simply be written as the joint density function above, but now we change the notation since for likelihood function, __parameters of the distributions are treated as inputs__, e.g.:\n",
        "$$\n",
        "L(W, b, \\Sigma) = \\prod_{i=1}^n \\frac{1}{(2\\pi)^{d/2}|\\Sigma|^{1/2}}\\exp \\left\\{-\\frac{1}{2} (y_i - W^\\top \\mathbf{x}_i - b_i)^\\top \\Sigma^{-1} (y_i - W^\\top \\mathbf{x}_i-b_i) \\right\\}\n",
        "$$\n",
        "\n",
        "However, product term is tricky to deal with, we hence need __log-likelihood__ function. $l(W,b,\\Sigma) = \\log L(W,b,\\Sigma)$ to turn the product into summation. From their on, we can invoke any optimization algorthm (or do it by hand), to maximize the log-likelihood function.\n",
        "\n",
        "Now, the exercise is to write down the formulation of MLE for the following two classes of distributions."
      ]
    },
    {
      "cell_type": "markdown",
      "metadata": {
        "id": "yWk8Y2tpNKeU"
      },
      "source": [
        "#### Exercise 2.1.1 (3 points)\n",
        "\n",
        "Write down the log-likelihood function for $n$ i.i.d random samples from the Bernoulli distribution, which has distribution function\n",
        "$$P_X(x_i;p) = p^{x_i}(1-p)^{(1-x_i)}$$\n",
        "where $p\\in [0,1]$ and $x_i \\in \\{0,1\\}$."
      ]
    },
    {
      "cell_type": "markdown",
      "metadata": {
        "id": "xnh4FBA1NKeU"
      },
      "source": [
        "**[TODO: Write your answer here]**\n",
        "\n",
        "The likelihood function is as follows:\n",
        "$$\n",
        "\\begin{align*}\n",
        "  L(p; x_1, x_2, \\ldots x_n) &= \\prod_{i=1}^nP_X(x_i; p) \\\\\n",
        "  &= \\prod_{i=1}^np^{x_i}(1-p)^{1-x_i}\n",
        "\\end{align*}\n",
        "$$\n",
        "\n",
        "Taking the logarithm, we get the log-likilood function:\n",
        "$$\n",
        "\\begin{align*}\n",
        "  \\mathcal{L}(p; x_1, x_2, \\ldots x_n) &= \\log \\prod_{i=1}^np^{x_i}(1-p)^{1-x_i} \\\\\n",
        "  &= \\sum_{i=1}^n \\log p^{x_i}(1-p)^{1-x_i} \\\\\n",
        "  &= \\sum_{i=1}^n \\left[ x_i \\log p + (1-x_i) \\log (1-p) \\right] \\\\\n",
        "  &= \\log p \\sum_{i=1}^n x_i + \\log (1-p) \\sum_{i=1}^n (1-x_i)\n",
        "\\end{align*}\n",
        "$$"
      ]
    },
    {
      "cell_type": "markdown",
      "metadata": {
        "id": "qwchKF6-NKeU"
      },
      "source": [
        "#### Exercise 2.1.2 (3 points)\n",
        "\n",
        "Write down the log-likelihood function for $n$ i.i.d random samples from the Poisson distribution, which has distribution function\n",
        "$$P_X(x_i; \\lambda) = \\frac{\\lambda^{x_i} e^{-\\lambda}}{{x_i}!}$$\n",
        "where $x_i \\in \\{1,2,\\cdots,\\}$.  "
      ]
    },
    {
      "cell_type": "markdown",
      "metadata": {
        "id": "0jPZnCkoNKeU"
      },
      "source": [
        "**[TODO: Write your answer here]**\n",
        "\n",
        "The likelihood function is as follows:\n",
        "$$\n",
        "\\begin{align*}\n",
        "  L(p; x_1, x_2, \\ldots x_n) &= \\prod_{i=1}^nP_X(x_i; \\lambda) \\\\\n",
        "  &= \\prod_{i=1}^n \\frac{\\lambda^{x_i} e^{-\\lambda}}{x_i!}\n",
        "\\end{align*}\n",
        "$$\n",
        "\n",
        "Taking the logarithm, we get the log-likilood function:\n",
        "$$\n",
        "\\begin{align*}\n",
        "  \\mathcal{L}(\\lambda; x_1, x_2, \\ldots x_n) &= \\log \\prod_{i=1}^n \\frac{\\lambda^{x_i} e^{-\\lambda}}{x_i!} \\\\\n",
        "  &= \\sum_{i=1}^n \\log \\frac{\\lambda^{x_i} e^{-\\lambda}}{x_i!} \\\\\n",
        "  &= \\sum_{i=1}^n \\left[ x_i \\log \\lambda - \\lambda - \\log x_i! \\right] \\\\\n",
        "  &= \\log p \\sum_{i=1}^n x_i + \\log (1-p) \\sum_{i=1}^n (1-x_i)\n",
        "\\end{align*}\n",
        "$$"
      ]
    },
    {
      "cell_type": "markdown",
      "metadata": {
        "id": "L3LxmvXoNKeU"
      },
      "source": [
        "#### Exercise 2.1.3 (3 points)\n",
        "\n",
        "Write down the __negative log-likelihood__ function for the logistic regression model applied to $n$ data points, where for each observed pair $(\\mathbf{x}_i, y_i)$, we assume that $P_{y_i\\mid X_i} \\sim \\text{Bernoulli}(\\sigma(W^\\top \\mathbf{x}_i))$.\n",
        "\n",
        "(Hint: Refer to Exercise 2.1.1 for the parametric form. Also you don't need to write down exact formula for the sigmoid function $\\sigma$.)"
      ]
    },
    {
      "cell_type": "markdown",
      "metadata": {
        "id": "D3YDA4JONKeU"
      },
      "source": [
        "**[TODO: Write your answer here]**\n",
        "\n",
        "We can write the likelihood function as follows:\n",
        "$$\n",
        "P(y_i|\\mathbf{x}_i; W) = \\sigma (W^\\top\\mathbf{x}_i)^{y_i} \\cdot (1 - \\sigma (W^\\top\\mathbf{x}_i))^{1 - y_i}\n",
        "$$\n",
        "\n",
        "Thus, the log-likelihood for a single observation is:\n",
        "$$\n",
        "\\log P(y_i|\\mathbf{x}_i; W) = y_i \\log \\sigma (W^\\top\\mathbf{x}_i) + (1-y_i) \\log (1 - \\sigma (W^\\top\\mathbf{x}_i))\n",
        "$$\n",
        "\n",
        "This makes the total negative log-likelihood as follows:\n",
        "$$\n",
        "-\\mathcal{L}(W;\\mathbf{x}, \\mathbf{y})=-\\sum_{i=1}^n\\left[y_i \\log \\sigma (W^\\top\\mathbf{x}_i) + (1-y_i) \\log (1 - \\sigma (W^\\top\\mathbf{x}_i))\\right]\n",
        "$$"
      ]
    },
    {
      "cell_type": "markdown",
      "source": [],
      "metadata": {
        "id": "FTbMQKf3XTYg"
      }
    },
    {
      "cell_type": "markdown",
      "metadata": {
        "id": "T3_UvEgDNKeU"
      },
      "source": [
        "#### Exercise 2.1.4 (3 points)\n",
        "\n",
        "Suppose you want to perform maximum likelihood inference for Gaussian, Poisson, and Bernoulli random variables. What would be the difference, in terms of optimization procedure, when you deal with these three random variables?\n",
        "\n",
        "(Hint: Think about the values the parameters of these distributions can take.)"
      ]
    },
    {
      "cell_type": "markdown",
      "metadata": {
        "id": "4qTkoefVNKeV"
      },
      "source": [
        "**[TODO: Write your answer here]**\n",
        "\n",
        "**Gaussian**: There are two parameters to learn: the mean and the variance. Finding values of these parameters that maximize the likelihood function would be the optimization procedure over a continuous parameter space.\n",
        "\n",
        "**Poisson**: There is one to learn: $\\lambda$. Finding the value of this parameters that maximizes the likelihood function would be the optimization procedure over the parameter space of positive numbers (since the parameter is restricted to positive real numbers).\n",
        "\n",
        "**Bernoulli**: The only parameter to learn is $p$. Finding the value of this parameters that maximizes the likelihood function would be the optimization procedure over the paramter space constrained between 0 and 1, inclusive, since $p$ is a probability and can only take such values."
      ]
    },
    {
      "cell_type": "markdown",
      "metadata": {
        "id": "b8fMIdgmNKeV"
      },
      "source": [
        "### Exercise 2.2: Implemention of Logistic Regression (38 points)"
      ]
    },
    {
      "cell_type": "code",
      "execution_count": 11,
      "metadata": {
        "id": "aBcDJkkiNKeV"
      },
      "outputs": [],
      "source": [
        "# Dependencies\n",
        "import numpy as np\n",
        "import pandas as pd\n",
        "import scipy.optimize as opt\n",
        "import matplotlib.pyplot as plt\n",
        "\n",
        "from sklearn import metrics\n",
        "from scipy.stats import multivariate_normal\n",
        "from sklearn.mixture import GaussianMixture\n",
        "from sklearn.metrics import silhouette_score\n",
        "from sklearn.decomposition import PCA\n",
        "from sklearn.preprocessing import StandardScaler, normalize\n",
        "from sklearn.model_selection import train_test_split"
      ]
    },
    {
      "cell_type": "markdown",
      "metadata": {
        "id": "9EJXtIwdNKeV"
      },
      "source": [
        "#### Exercise 2.2.1 (8 points)\n",
        "\n",
        "Analytically calculate the gradient of logistic regression negative log-likelihood with respect to parameter $W$. Show all of your steps."
      ]
    },
    {
      "cell_type": "markdown",
      "metadata": {
        "id": "LJeLvziTNKeV"
      },
      "source": [
        "**[TODO: Write your answer here]**\n",
        "\n",
        "Denoting $\\sigma_i = \\sigma(W^\\top \\mathbf{x}_i)$, the gradient can be calculated as follows:\n",
        "\n",
        "$$\n",
        "\\begin{align*}\n",
        "\\frac{\\partial (-\\mathcal{L})}{\\partial W_j} &= -\\sum_{i=1}^{n} \\left[ y_i \\frac{\\partial \\log(\\sigma_i)}{\\partial W_j} + (1 - y_i) \\frac{\\partial \\log(1 - \\sigma_i)}{\\partial W_j} \\right] \\\\\n",
        "&= -\\sum_{i=1}^{n} \\left[ y_i \\frac{1}{\\sigma_i} \\frac{\\partial \\sigma_i}{\\partial W_j} - (1 - y_i) \\frac{1}{1 - \\sigma_i} \\frac{\\partial \\sigma_i}{\\partial W_j} \\right] \\\\\n",
        "&= -\\sum_{i=1}^{n} \\left[ y_i \\frac{1}{\\sigma_i} \\sigma_i (1 - \\sigma_i) x_{ij} - (1 - y_i) \\frac{1}{1 - \\sigma_i} \\sigma_i (1 - \\sigma_i) x_{ij} \\right] \\\\\n",
        "&= -\\sum_{i=1}^{n} \\left[ y_i (1 - \\sigma_i) x_{ij} - (1 - y_i) \\sigma_i x_{ij} \\right] \\\\\n",
        "&= -\\sum_{i=1}^{n} \\left[ y_i x_{ij} - \\sigma_i x_{ij} - \\sigma_i x_{ij} + y_i \\sigma_i x_{ij} \\right] \\\\\n",
        "&= -\\sum_{i=1}^{n} \\left[ (y_i - \\sigma_i) x_{ij} \\right] \\\\\n",
        "&= \\sum_{i=1}^{n} (\\sigma_i - y_i) x_{ij}\n",
        "\\end{align*}\n",
        "$$"
      ]
    },
    {
      "cell_type": "markdown",
      "metadata": {
        "id": "2RUnhP5BNKeV"
      },
      "source": [
        "In the following exercises, we load a sample dataset, and then implement a logistic regression model by hand; in the end, we compare the prediction performance with a standard logistic regression model from the scikit-learn library."
      ]
    },
    {
      "cell_type": "code",
      "source": [
        "from google.colab import drive\n",
        "drive.mount('/content/drive')"
      ],
      "metadata": {
        "colab": {
          "base_uri": "https://localhost:8080/"
        },
        "id": "RoOjTbQwfKWf",
        "outputId": "1d3e42de-647c-4aae-97a5-16ca97f52a0e"
      },
      "execution_count": 12,
      "outputs": [
        {
          "output_type": "stream",
          "name": "stdout",
          "text": [
            "Mounted at /content/drive\n"
          ]
        }
      ]
    },
    {
      "cell_type": "code",
      "execution_count": 13,
      "metadata": {
        "colab": {
          "base_uri": "https://localhost:8080/"
        },
        "id": "SxQ6a9kANKeV",
        "outputId": "d93e7317-c981-4c65-e197-38b9af05f2f4"
      },
      "outputs": [
        {
          "output_type": "stream",
          "name": "stdout",
          "text": [
            "(99, 2)\n",
            "(99, 1)\n"
          ]
        }
      ],
      "source": [
        "sample_data = pd.read_csv(\"/content/drive/MyDrive/Colab Notebooks/cs247/sample_data.txt\", delimiter=\",\")\n",
        "n,d = sample_data.shape\n",
        "sample_data.columns = [\"score_1\", \"score_2\", \"label\"]\n",
        "X = sample_data[[\"score_1\", \"score_2\"]].values\n",
        "y = sample_data[\"label\"].values.reshape(-1,1)\n",
        "print(X.shape)\n",
        "print(y.shape)"
      ]
    },
    {
      "cell_type": "code",
      "execution_count": 14,
      "metadata": {
        "colab": {
          "base_uri": "https://localhost:8080/"
        },
        "id": "ZULc6QBzNKeV",
        "outputId": "788e57c4-199a-48c2-a209-bcabff32fd1d"
      },
      "outputs": [
        {
          "output_type": "execute_result",
          "data": {
            "text/plain": [
              "(2, 1)"
            ]
          },
          "metadata": {},
          "execution_count": 14
        }
      ],
      "source": [
        "np.random.seed(1234)\n",
        "W_init = np.random.randn(d-1,1)\n",
        "W_init.shape"
      ]
    },
    {
      "cell_type": "markdown",
      "metadata": {
        "id": "KlbGZR9JNKeV"
      },
      "source": [
        "#### Exercise 2.2.2 (10 points)\n",
        "Implement a logistic regression model by hand, by specifying the following functions:\n",
        "- `sigmoid(x)` which implements the sigmoid function\n",
        "- `cost_function(W, X, y)`, which returns the negative log-likelihood and the gradient with respect to parameter `W`\n",
        "\n",
        "(Hint: Tou may want to deal with numerical issues with `log` with something like `eps=1e-6`.)"
      ]
    },
    {
      "cell_type": "code",
      "execution_count": 15,
      "metadata": {
        "id": "yxXUSwXpNKeV"
      },
      "outputs": [],
      "source": [
        "def sigmoid(x):\n",
        "    # TODO: Implement the sigmoid function\n",
        "    return 1 / (1 + np.exp(-x))"
      ]
    },
    {
      "cell_type": "code",
      "execution_count": 16,
      "metadata": {
        "id": "91t0x05dNKec"
      },
      "outputs": [],
      "source": [
        "# W: Model parameters of shape (d,1)\n",
        "# X: Input of shape (N,d)\n",
        "# y: Input of shape (N,1)\n",
        "# Returns: Negative-log-likelihood, gradient\n",
        "def cost_function(W, X, y):\n",
        "    # TODO: Implement the negative log-likelihood function and its gradient with respect to parameter `W`\n",
        "    N, d = X.shape\n",
        "    eps = 1e-6\n",
        "\n",
        "    predictions = np.clip(sigmoid(np.dot(X, W)), eps, 1 - eps)\n",
        "    negative_log_likelihood = -np.sum(y * np.log(predictions) + (1 - y) * np.log(1 - predictions))\n",
        "    gradient = np.dot(X.T, predictions - y) / N\n",
        "\n",
        "    return negative_log_likelihood, gradient"
      ]
    },
    {
      "cell_type": "markdown",
      "metadata": {
        "id": "DHSZKgeXNKec"
      },
      "source": [
        "#### Exercise 2.2.3 (6 points)\n",
        "\n",
        "Implement gradient descent and use it to train the logistic regression model."
      ]
    },
    {
      "cell_type": "code",
      "execution_count": 17,
      "metadata": {
        "id": "QC2GbLDlNKec"
      },
      "outputs": [],
      "source": [
        "\"\"\"\n",
        "Gradient descent algorithm: update the parameter `W` at each iteration\n",
        "Returns:\n",
        "    - A `List` recording losses at each iteration\n",
        "    - The final optimal value of `W`\n",
        "\"\"\"\n",
        "def gradient_descent(X, y, W, learning_rate, n_iters):\n",
        "    # TODO: Implement the gradient descent\n",
        "    losses = []\n",
        "\n",
        "    for i in range(n_iters):\n",
        "        loss, grad = cost_function(W, X, y)\n",
        "        W -= learning_rate * grad\n",
        "        losses.append(loss)\n",
        "        if i % 100 == 0:\n",
        "            print(f\"Iteration {i}/{n_iters} - Loss: {loss}\")\n",
        "\n",
        "    return losses, W"
      ]
    },
    {
      "cell_type": "code",
      "execution_count": 18,
      "metadata": {
        "colab": {
          "base_uri": "https://localhost:8080/"
        },
        "id": "LdbiHGxwNKec",
        "outputId": "ab0c46cf-c80d-4799-c1fb-39566177f9d2"
      },
      "outputs": [
        {
          "output_type": "stream",
          "name": "stdout",
          "text": [
            "Iteration 0/1000 - Loss: 817.0046739747117\n",
            "Iteration 100/1000 - Loss: 299.8030468970589\n",
            "Iteration 200/1000 - Loss: 65.17220315029194\n",
            "Iteration 300/1000 - Loss: 62.04421880703233\n",
            "Iteration 400/1000 - Loss: 62.0442185101094\n",
            "Iteration 500/1000 - Loss: 62.04421851010938\n",
            "Iteration 600/1000 - Loss: 62.044218510109374\n",
            "Iteration 700/1000 - Loss: 62.044218510109374\n",
            "Iteration 800/1000 - Loss: 62.044218510109374\n",
            "Iteration 900/1000 - Loss: 62.044218510109374\n",
            "Optimal W: [[0.00895399]\n",
            " [0.00224866]]\n"
          ]
        }
      ],
      "source": [
        "# TODO: Run gradient descent and obtain the records alongside optimal `W`\n",
        "\n",
        "learning_rate = 0.001\n",
        "n_iters = 1000\n",
        "\n",
        "losses, optimal_W = gradient_descent(X, y, W_init, learning_rate, n_iters)\n",
        "print(\"Optimal W:\", optimal_W)"
      ]
    },
    {
      "cell_type": "markdown",
      "metadata": {
        "id": "JL2TuyK6NKec"
      },
      "source": [
        "#### Exercise 2.2.4 (6 points)\n",
        "\n",
        "Plot the training curve (y-axis as the negative log-likelihood, and x-axis as training iterations), and experiment on different learning rates and `n_iters` to ensure convergence."
      ]
    },
    {
      "cell_type": "code",
      "execution_count": 19,
      "metadata": {
        "colab": {
          "base_uri": "https://localhost:8080/",
          "height": 472
        },
        "id": "vCLlK7puNKec",
        "outputId": "15b24356-4c58-4d91-f1e2-25134cdb6486"
      },
      "outputs": [
        {
          "output_type": "display_data",
          "data": {
            "text/plain": [
              "<Figure size 640x480 with 1 Axes>"
            ],
            "image/png": "[encoded data removed]"
          },
          "metadata": {}
        }
      ],
      "source": [
        "# TODO: Use matplotlib to plot the losses and show convergence\n",
        "# Plot the loss curve\n",
        "plt.plot(losses)\n",
        "plt.xlabel(\"Iteration\")\n",
        "plt.ylabel(\"Loss\")\n",
        "plt.title(\"Gradient Descent Loss Curve\")\n",
        "plt.show()"
      ]
    },
    {
      "cell_type": "markdown",
      "metadata": {
        "id": "C_UMcN08NKec"
      },
      "source": [
        "#### Exercise 2.2.5 (8 points)\n",
        "\n",
        "Use the `sklearn.linear_model.LogisticRegression` model to fit the given `X` and `y`, then report the optimum values obtained from this model and compare with the result from Exercise 2.2.3.\n",
        "Are the optimal value of parameters similar? If so, explain why. If not, explain what may cause the difference between your implementation and the one from sklearn."
      ]
    },
    {
      "cell_type": "code",
      "execution_count": 20,
      "metadata": {
        "colab": {
          "base_uri": "https://localhost:8080/"
        },
        "id": "YclHyzFNNKec",
        "outputId": "2ad54848-be3b-4524-d405-fda96a61b25a"
      },
      "outputs": [
        {
          "output_type": "stream",
          "name": "stdout",
          "text": [
            "Optimal W: [[0.008954   0.00224866]]\n"
          ]
        }
      ],
      "source": [
        "# TODO: scikit-learn logistic regression\n",
        "from sklearn.linear_model import LogisticRegression\n",
        "\n",
        "model = LogisticRegression(random_state=1234, max_iter=1000, fit_intercept=False, penalty=None)\n",
        "model.fit(X, y.flatten())\n",
        "optimal_W_sklearn = model.coef_\n",
        "print(\"Optimal W:\", optimal_W_sklearn)"
      ]
    },
    {
      "cell_type": "markdown",
      "metadata": {
        "id": "jj6NlsuaNKec"
      },
      "source": [
        "**[TODO: Write your answer here]**\n",
        "\n",
        "The weight values are similar enough, since we are using a correct implementation of the logistic regression algorithm and similar optimization settings, including randomized initial weights, number of iterations, and no fitted intercept."
      ]
    },
    {
      "cell_type": "markdown",
      "metadata": {
        "id": "y2vuCCqqNKec"
      },
      "source": [
        "## Problem 3: Gaussian Mixture Model (70 points + 10 bonus points)\n",
        "\n",
        "In this problem, we will review a commonly used __latent variable model__ called Gaussian Mixture Model (GMM). In particular, we will focus on the property of learning this model, first from the perspective of MLE and then from the perspective of surrogate optimization, using what is known as the __Expectation Maximization (EM)__ algorithm."
      ]
    },
    {
      "cell_type": "markdown",
      "metadata": {
        "id": "Clr0Kty7NKec"
      },
      "source": [
        "### Exercise 3.1: Full Distribution of GMM (6 points)\n",
        "\n",
        "We know that for _generative modeling_, the dataset is assumed to be generated from some probabilistic distribution, and the goal of GMM is to estimate the underlying distribution of the dataset. Here the assumption is implicitly that the data is generated by a probability distribution smooth enough, such that we can estimate its probability density function (pdf). Hence the terminology for this task is known as __density estimation__. A straightforward application of density estimation is the task of __clustering__, e.g., determining the possible __modes__ of the probability density function (each cluster center can be seen as the mode of a pdf). Therefore, from this perspective, we can make the following observations about K-Means and GMM:\n",
        "\n",
        "- K-Means is an algorithm that targets the task of clustering specifically, while GMM is more powerful in that it deals with density estimation, and by this virtue it can also be used for clustering.\n",
        "- In the context of clustering, GMM assigns data points _softly_, that is, with some probability, to a cluster, whereas K-means provides _hard assignments_ of elements to clusters.\n",
        "\n",
        "Suppose that the dataset contains $n$ elements $\\{x_1, \\cdots, x_N\\}$ and we assume $k$ cluster centers (or distribution modes). Now we take a look at the generative modeling story that GMM is telling: as a latent variable model, each observed data point $\\mathbf{x}_i$ is associated with two random variables $Z_i, X_i$, such that $P_{X_i,Z_i} = P_{Z_i}P_{X_i\\mid Z_i}$ where:\n",
        "\n",
        "\n",
        "- $Z_i \\sim Cat(\\pi_1, \\cdots, \\pi_k)$, where $k$ represents $k$ pdf modes (clusters) and $\\sum_{j=1}^k \\pi_j = 1$; this random variable is quantifies the event \\{$\\mathbf{x}_i$ belongs to cluster $j$\\}, and $P(Z_j = i) = \\pi_i$.\n",
        "\n",
        "Now comes the trickier bit, where we specify a __conditional distribution__ $X_i\\mid Z_i=j$. This means __after observing that $\\mathbf{x}_i$ is in cluster $j$, what is the distribution of $x_i$?__. The GMM assumes this follows a Gaussian with mean and variance determined by the clsuter $j$:\n",
        "\n",
        "- $X_i\\mid Z_i = j \\sim \\mathcal{N}(\\mu_j, \\Sigma_j)$, where the index $j \\in \\{1,\\cdots, N\\}$ and index $j\\in\\{1,\\cdots, k\\}$. We can see that each random variable $X_i\\mid Z_i=j$ is distributed as a Gaussian, whose parameters are determined by the cluster it belongs to.\n",
        "\n",
        "The plate diagram for this _Probabilistic Graphical Model_ is given below, where the empty circle represents the latent variable (since we cannot observe the clusters a priori).\n",
        "\n",
        "![](bishop-gaussian-mixture.png)\n",
        "\n",
        "This plate diagram tells us that there are in total $2N$ random variables, two for each observed data point. It also allows us to write down the joint density function, where again we have the i.i.d assumption of each random variable pair $(X_i,Z_i)$ and we denote the full joint distribution as $P_{XZ}$ (and the full joint pdf as $f_{XZ}$) and the individual joint distribution to be $P_{X_iZ_i}$(and the individual joint pdf to be $f_{X_iZ_i}$):\n",
        "\n",
        "$$\n",
        "f_{X_iZ_i}(\\mathbf{\\mathbf{x}_i}, k) = P(Z_i = k) f_{X}(\\mathbf{x_i} \\mid \\mu_k, \\Sigma_k) = \\pi_k \\mathcal{N}(\\mathbf{x}; \\mu_k, \\Sigma_k)\n",
        "$$\n",
        "\n",
        "\n",
        "__Please strictly follow the notation used in this notebook, as your true understanding of the model should not change with a change of notation__!"
      ]
    },
    {
      "cell_type": "markdown",
      "metadata": {
        "id": "15kzGaboNKed"
      },
      "source": [
        "#### Exercise 3.1.1 (3 points)\n",
        "\n",
        "Write down the full derivation of the joint density function $f_{XZ}$ from the formula above.\n",
        "\n",
        "(Hint: Write down the correct pdf for each random variable, then use the assumption of i.i.d to factorize it. Note that $\\mathbf{x}_i \\in \\mathbb{R}^d$.)"
      ]
    },
    {
      "cell_type": "markdown",
      "metadata": {
        "id": "7wq0-ZYjNKed"
      },
      "source": [
        "**[TODO: Write your answer here]**\n",
        "\n",
        "The joint density function for a single data point is:\n",
        "\n",
        "$$\n",
        "f_{XZ}(\\mathbf{\\mathbf{x}_i}, k) = P(Z_i = k) f_{X}(\\mathbf{x_i} \\mid \\mu_k, \\Sigma_k) = \\pi_k \\mathcal{N}(\\mathbf{x}; \\mu_k, \\Sigma_k)\n",
        "$$\n",
        "\n",
        "Expressing this product as a joint density function $f_{XZ}$ for the entire dataset, given the i.i.d. assumption about each random variable, we get:\n",
        "\n",
        "$$\n",
        "\\begin{align*}\n",
        "f_{XZ}(\\mathbf{x}_1, \\ldots, \\mathbf{x}_N, k_1, \\ldots, k_N) &= \\prod_{i=1}^{N} f_{XZ}(\\mathbf{x}_i, k_i) \\\\\n",
        "&= \\prod_{i=1}^{N} \\pi_k \\mathcal{N}(\\mathbf{x}; \\mu_{k_i}, \\Sigma_{k_i})\n",
        "\\end{align*}\n",
        "$$"
      ]
    },
    {
      "cell_type": "markdown",
      "metadata": {
        "id": "TeRf8Gr2NKed"
      },
      "source": [
        "#### Exercise 3.1.2 (3 points)\n",
        "\n",
        "Write down the formula for the marginal joint pdf of $f_X$ using the result from Exercise 3.1.1, where $X$ is the collection of random variables $X_1,\\cdots, X_N$."
      ]
    },
    {
      "cell_type": "markdown",
      "metadata": {
        "id": "AgcmcVGvNKed"
      },
      "source": [
        "**[TODO: Write your answer here]**\n",
        "\n",
        "To obtain the marginal joing pdf $f_X$, we sum over all possible configurations of $Z$:\n",
        "$$\n",
        "f_X(\\mathbf{x}) = \\sum_{z} f_{XZ}(\\mathbf{x}, z) = \\sum_{z} \\prod_{i=1}^{N} \\pi_{{k_i}} \\cdot \\mathcal{N}(\\mathbf{x}_i; \\mu_{{k_i}}, \\Sigma_{{k_i}})\n",
        "$$\n",
        "\n",
        "\n",
        "Since each $Z_i$ can take one of $k$ values, the sum over $z$ refers to summing over all possible combinations of cluster assignments for each $X_i$. For each $X_i$, the marginal pdf is a mixture of $k$ Gaussians:\n",
        "\n",
        "$$\n",
        "f_{X_i}(\\mathbf{x}_i) = \\sum_{j=1}^{k} \\pi_j \\cdot \\mathcal{N}(\\mathbf{x}_i; \\mu_j, \\Sigma_j)\n",
        "$$\n",
        "\n",
        "Given the i.i.d. assumption for $X_i$'s, the marginal joint pdf $f_X(\\mathbf{x})$ for the whole dataset is the product of individual marginal pdfs:\n",
        "\n",
        "$$\n",
        "f_X(\\mathbf{x}) = \\prod_{i=1}^{N} f_{X_i}(\\mathbf{x}_i) = \\prod_{i=1}^{N} \\left( \\sum_{j=1}^{k} \\pi_j \\cdot \\mathcal{N}(\\mathbf{x}_i; \\mu_j, \\Sigma_j) \\right)\n",
        "$$"
      ]
    },
    {
      "cell_type": "markdown",
      "metadata": {
        "id": "altG2SKPNKed"
      },
      "source": [
        "### Exercise 3.2: MLE and EM algorithm for GMM (9 points + 10 bonus points)"
      ]
    },
    {
      "cell_type": "markdown",
      "metadata": {
        "id": "JtiZlc2UNKed"
      },
      "source": [
        "#### Exercise 3.2.1 (5 points)\n",
        "\n",
        "After obtaining the joint PDF, we now can derive the negative log-likelihood function of the joint pdf. write down the formula for the negative log-likelihood for random variable $X = (X_1,.\\cdots, X_N)$. Then answer the following: why is doing a vanilla MLE for GMM difficult?\n",
        "\n",
        "(Hint: It is okay to Google this, but you need to write down the analytical form of the negative log-likelihood and then say something about it.\n",
        "You may want to read Section 9.2.1 from Christopher Bishop's [_Pattern Recognition and Machine Leanrning_](https://www.microsoft.com/en-us/research/uploads/prod/2006/01/Bishop-Pattern-Recognition-and-Machine-Learning-2006.pdf).)"
      ]
    },
    {
      "cell_type": "markdown",
      "metadata": {
        "id": "26fBN-LtNKed"
      },
      "source": [
        "**[TODO: Write your answer here]**\n",
        "\n",
        "Taking the negative logarithm of the joint probability density function $f_X$, we get:\n",
        "\n",
        "$$\n",
        "\\begin{align*}\n",
        "-\\mathcal{L}(X) &= -\\log \\prod_{i=1}^{N} \\left( \\sum_{k=1}^{K} \\pi_k \\mathcal{N}(\\mathbf{x}_i; \\mu_k, \\Sigma_k) \\right) \\\\\n",
        "&= -\\sum_{i=1}^{N} \\log \\left( \\sum_{k=1}^{K} \\pi_k \\mathcal{N}(\\mathbf{x}_i; \\mu_k, \\Sigma_k) \\right)\n",
        "\\end{align*}\n",
        "$$\n",
        "\n",
        "The difficulty of vanilla MLE for GMM arises from the presence of latent variables (unobserved cluster assignments) in the model. In the GMM, the cluster assignments $Z_1, \\ldots, Z_N$ are not observed, and the likelihood involves a summation over all possible assignments. This summation makes the log-likelihood function non-convex and analytically intractable.\n",
        "\n",
        "The presence of the Gaussian components in the likelihood also introduces nonlinearities, making it challenging to find a closed-form solution for the MLE. As a result, optimizing the log-likelihood directly is challenging."
      ]
    },
    {
      "cell_type": "markdown",
      "metadata": {
        "id": "JGqlytwyNKed"
      },
      "source": [
        "#### Exercise 3.2.2 (4 points)\n",
        "\n",
        "Write down the EM algorithm for GMM (i.e. write down the 4 steps)."
      ]
    },
    {
      "cell_type": "markdown",
      "metadata": {
        "id": "h34CQ3yiNKed"
      },
      "source": [
        "**[TODO: Write your answer here]**\n",
        "\n",
        "1. Initialization of means, covariances, and mixing coefficients.\n",
        "2. Expectation step\n",
        "3. Maximization step\n",
        "4. Evaluating log-likelihood and checking for convergence."
      ]
    },
    {
      "cell_type": "markdown",
      "metadata": {
        "id": "LfjfWuXHNKed"
      },
      "source": [
        "#### Exercise 3.2.3 (10 bonus points)\n",
        "Prove that the EM algorithm guarantees monotonic increase in the log-likelihood using the following theorem (or any version of it, by providing your source citation).\n",
        "\n",
        "__Theorem (Jensen's Inequality)__: If $f:\\mathbb{R}\\rightarrow \\mathbb{R}$ is a concave function, then for any $x_1,\\cdots, x_k$, and any $\\lambda_1,\\cdots, \\lambda_k \\geq 0$, and $\\sum_{i=1}^k \\lambda_k = 1$, the following inequality holds:\n",
        "$$\n",
        "\\sum_{j=1}^m \\lambda_j f(a_j) \\leq f\\left( \\sum_{j=1}^m \\lambda_j a_j \\right)\n",
        "$$\n",
        "\n",
        "__Hints__:\n",
        "- Is the logarithm function a concave function?\n",
        "- You may want to checkout the general case of EM algorithm monotonicity [here](https://www.cs.cmu.edu/~epxing/Class/10708-17/notes-17/10708-scribe-lecture8.pdf). Think about the special case of GMM."
      ]
    },
    {
      "cell_type": "markdown",
      "metadata": {
        "id": "_T7SI2DGNKed"
      },
      "source": [
        "**[TODO: Write your answer here]**"
      ]
    },
    {
      "cell_type": "markdown",
      "metadata": {
        "id": "3mWY5cyXNKed"
      },
      "source": [
        "### Exercise 3.3: EM vs. GD on Convergence (55 points)\n",
        "\n",
        "In this numerical experiment, we study and compare two cases:\n",
        "1. GMM trained using MLE, with gradient descent;\n",
        "2. GMM trained using EM algorithm.\n",
        "\n",
        "We compare these two scenarios' convergence behavior and their overall optimization performance. In particular, we:\n",
        "1. Provide randomzied initial values for the model parameters;\n",
        "2. (Exercise 3.3.1) Ask you to implement the objective / loss function, the negative-log-likelihood;\n",
        "3. (Exercise 3.3.2) Ask you to call optimization algorithm from sklearn to minimize this objective;\n",
        "4. (Exercise 3.3.3) Implement EM algorithm to optimize the objective;\n",
        "5. (Exercise 3.3.4) Observe the convergence behavior in Exercises 3.1.2 and 3.1.3."
      ]
    },
    {
      "cell_type": "markdown",
      "metadata": {
        "id": "SnHAv34dNKee"
      },
      "source": [
        "#### Exercise 3.3.1: GMM with MLE (10 points)\n",
        "\n",
        "In this case, we generate some random data, then ask you to implement the objective function (__log-likelihood__). In this case we use the positive, since EM algorithm is maximizing the log-likelihood, rather than minimizing the negative log-likelihood."
      ]
    },
    {
      "cell_type": "code",
      "execution_count": 21,
      "metadata": {
        "id": "iHTKlsOnNKee"
      },
      "outputs": [],
      "source": [
        "# Data generation\n",
        "np.random.seed(1234)\n",
        "def generate_MoG_data(num_data, means, covariances, weights):\n",
        "    \"\"\" Creates a list of data points \"\"\"\n",
        "    num_clusters = len(weights)\n",
        "    data = []\n",
        "    for i in range(num_data):\n",
        "        #  Use np.random.choice and weights to pick a cluster id greater than or equal to 0 and less than num_clusters\n",
        "        k = np.random.choice(len(weights), 1, p=weights)[0]\n",
        "\n",
        "        # Use np.random.multivariate_normal to create data from this cluster\n",
        "        x = np.random.multivariate_normal(means[k], covariances[k])\n",
        "\n",
        "        data.append(x)\n",
        "    return data\n",
        "\n",
        "# Model parameters\n",
        "init_means = [\n",
        "    [5, 0], # mean of cluster 1\n",
        "    [1, 1], # mean of cluster 2\n",
        "    [0, 5]  # mean of cluster 3\n",
        "]\n",
        "init_covariances = [\n",
        "    [[.5, 0.], [0, .5]], # covariance of cluster 1\n",
        "    [[.92, .38], [.38, .91]], # covariance of cluster 2\n",
        "    [[.5, 0.], [0, .5]]  # covariance of cluster 3\n",
        "]\n",
        "init_weights = [1/4., 1/2., 1/4.]  # weights of each cluster\n",
        "\n",
        "# Generate data\n",
        "np.random.seed(4)\n",
        "data = generate_MoG_data(100, init_means, init_covariances, init_weights)\n",
        "data = np.vstack(data)"
      ]
    },
    {
      "cell_type": "code",
      "execution_count": 22,
      "metadata": {
        "colab": {
          "base_uri": "https://localhost:8080/",
          "height": 469
        },
        "id": "fwYpjsLYNKee",
        "outputId": "ad312344-d1af-4df1-d6ff-84e3e61234ea"
      },
      "outputs": [
        {
          "output_type": "display_data",
          "data": {
            "text/plain": [
              "<Figure size 640x480 with 1 Axes>"
            ],
            "image/png": "[encoded data removed]"
          },
          "metadata": {}
        }
      ],
      "source": [
        "# Visualize data\n",
        "plt.plot(data[:,0], data[:,1], 'ko')\n",
        "plt.rcParams.update({'font.size': 16})\n",
        "plt.tight_layout()"
      ]
    },
    {
      "cell_type": "code",
      "execution_count": 23,
      "metadata": {
        "id": "WzdWMci2NKee"
      },
      "outputs": [],
      "source": [
        "# Initial setup for parameters: `pi`, `mu`, `Sigma` for GMM\n",
        "class Theta(object):\n",
        "    pi = np.empty((0,3))\n",
        "    mu = np.empty((0,3,2))\n",
        "    Sigma = np.empty((0,3,2,2))\n",
        "\n",
        "    def __init__(self, pi, mu, Sigma):\n",
        "        self.pi = pi\n",
        "        self.mu = mu\n",
        "        self.Sigma = Sigma\n",
        "\n",
        "theta_old = Theta(\n",
        "    pi=np.array([0.4, 0.3, 0.3]),\n",
        "    mu=np.array([\n",
        "        [0.0, 0.0],\n",
        "        [3.0, 1.0],\n",
        "        [4.0, 3.0]\n",
        "    ]),\n",
        "    Sigma=np.array([\n",
        "        [[1.0, 0.5],[0.5, 1.0]],\n",
        "        [[1.0, 0.5],[0.5, 1.0]],\n",
        "        [[1.0, 0.5],[0.5, 1.0]]\n",
        "    ])\n",
        ")"
      ]
    },
    {
      "cell_type": "code",
      "execution_count": 24,
      "metadata": {
        "id": "uqD1hq2PNKee"
      },
      "outputs": [],
      "source": [
        "# TODO: implement the objective function, negative log-likelihood, given theta and data x\n",
        "\n",
        "from scipy.stats import multivariate_normal\n",
        "\n",
        "def GMM_objective(theta, x=data):\n",
        "    \"\"\"\n",
        "    `theta`: theta class above\n",
        "    `x`: input data of shape (n,d)\n",
        "    Return the negative log-likelihood of GMM\n",
        "    \"\"\"\n",
        "    pi, mu, Sigma = theta.pi, theta.mu, theta.Sigma\n",
        "    num_clusters = len(pi)\n",
        "    num_data = len(x)\n",
        "\n",
        "    log_likelihood = 0.0\n",
        "    for i in range(num_data):\n",
        "        cluster_likelihoods = np.zeros(num_clusters)\n",
        "        for k in range(num_clusters):\n",
        "            cluster_likelihoods[k] = pi[k] * multivariate_normal.pdf(x[i], mu[k], Sigma[k])\n",
        "        log_likelihood += np.log(np.sum(cluster_likelihoods))\n",
        "\n",
        "    return -log_likelihood\n",
        "\n"
      ]
    },
    {
      "cell_type": "markdown",
      "metadata": {
        "id": "y4vLL2r8NKee"
      },
      "source": [
        "#### Exercise 3.3.2: Optimize the Objective Directly (15 points)\n",
        "\n",
        "In this case we ask you to implement a simple __gradient ascent__ algorithm to maximize the log-likelihood function implemented in Exercise 3.3.1.\n",
        "To do that, you need to implement the gradient of the objective, then update using the standard gradient ascent (not descent, since we are maximizing the objective)."
      ]
    },
    {
      "cell_type": "code",
      "execution_count": 25,
      "metadata": {
        "id": "BZI740mhNKee"
      },
      "outputs": [],
      "source": [
        "def GMM_objective_grad(theta, x=data):\n",
        "    # TODO: calculate and return the gradient of GMM objective w.r.t `pi`, `mu`, `Sigma`\n",
        "    pi, mu, Sigma = theta.pi, theta.mu, theta.Sigma\n",
        "    num_clusters = len(pi)\n",
        "    num_data = len(x)\n",
        "    dim = len(x[0])\n",
        "\n",
        "    gradient_pi = np.zeros(pi.shape)\n",
        "    gradient_mu = np.zeros(mu.shape)\n",
        "    gradient_Sigma = np.zeros(Sigma.shape)\n",
        "\n",
        "    for i in range(num_data):\n",
        "        cluster_likelihoods = np.zeros(num_clusters)\n",
        "        for k in range(num_clusters):\n",
        "            cluster_likelihoods[k] = pi[k] * multivariate_normal.pdf(x[i], mu[k], Sigma[k])\n",
        "\n",
        "        total_likelihood = np.sum(cluster_likelihoods)\n",
        "\n",
        "        for k in range(num_clusters):\n",
        "            gradient_pi[k] += cluster_likelihoods[k] / total_likelihood\n",
        "\n",
        "            gradient_mu[k] += (cluster_likelihoods[k] / total_likelihood) * (x[i] - mu[k])\n",
        "\n",
        "            centered_data = (x[i] - mu[k]).reshape(dim, 1)\n",
        "            gradient_Sigma[k] += (cluster_likelihoods[k] / total_likelihood) * (\n",
        "                np.outer(centered_data, centered_data) - Sigma[k])\n",
        "\n",
        "    return Theta(pi=gradient_pi, mu=gradient_mu, Sigma=gradient_Sigma)\n"
      ]
    },
    {
      "cell_type": "code",
      "execution_count": 26,
      "metadata": {
        "id": "ET_OXz0qNKee"
      },
      "outputs": [],
      "source": [
        "def GMM_gradient_ascent(theta, learning_rate=0.001, n_iters=500, x=data):\n",
        "    \"\"\"\n",
        "    TODO:\n",
        "    Call the above two functions to maximize the objective.\n",
        "    Return the updated parameters and the historical record of objective.\n",
        "    \"\"\"\n",
        "    obj_history = []\n",
        "\n",
        "    for i in range(n_iters):\n",
        "        # Calculate the gradient\n",
        "        gradient = GMM_objective_grad(theta, x)\n",
        "\n",
        "        # Update parameters using gradient ascent\n",
        "        theta.pi += learning_rate * gradient.pi\n",
        "        theta.mu += learning_rate * gradient.mu\n",
        "        theta.Sigma += learning_rate * gradient.Sigma\n",
        "\n",
        "        # Record the negative log-likelihood value\n",
        "        obj_value = GMM_objective(theta, x)\n",
        "        obj_history.append(obj_value)\n",
        "        if i % 100 == 0:\n",
        "            print(f\"Iteration {i}/{n_iters} - Objective: {obj_value}\")\n",
        "\n",
        "    return theta, obj_history\n"
      ]
    },
    {
      "cell_type": "markdown",
      "metadata": {
        "id": "8x6YendeNKee"
      },
      "source": [
        "#### Exercise 3.3.3: GMM with EM (20 points)\n",
        "\n",
        "The EM algorithm does not directly deal with the objective function, but instead work on a surrogate. This general line of approach of optimziation for probabilistic models is known as __variational inference__. Now implement the steps of EM algorithm for GMM. Then run the EM algorithm for 500 iterations to obtain the model parameters."
      ]
    },
    {
      "cell_type": "code",
      "execution_count": 27,
      "metadata": {
        "id": "00Mgwou7NKee"
      },
      "outputs": [],
      "source": [
        "def E_step(theta, data):\n",
        "    \"\"\"\n",
        "    TODO: implement the E-step of the EM algorithm.\n",
        "    Return the updated `theta`.\n",
        "    \"\"\"\n",
        "    # theta is the parameters to be updated in M step\n",
        "    # gamma is the posterior probability of Z (see Bishop text equation 9.23)\n",
        "    n, d = data.shape\n",
        "    k = len(theta.pi)\n",
        "    gamma = np.zeros((n, k))\n",
        "\n",
        "    for i in range(n):\n",
        "        for j in range(k):\n",
        "            gamma[i, j] = theta.pi[j] * multivariate_normal.pdf(data[i], mean=theta.mu[j], cov=theta.Sigma[j])\n",
        "        gamma[i, :] /= np.sum(gamma[i, :])\n",
        "\n",
        "    return theta, gamma"
      ]
    },
    {
      "cell_type": "code",
      "execution_count": 28,
      "metadata": {
        "id": "cUQ4HeaNNKef"
      },
      "outputs": [],
      "source": [
        "def M_step(theta, data, gamma):\n",
        "    \"\"\"\n",
        "    TODO: implement the M-step of the EM algorithm.\n",
        "    Return the updated `theta`.\n",
        "    \"\"\"\n",
        "    # theta is to be updated here\n",
        "    # gamma is the output from the E step\n",
        "    n, d = data.shape\n",
        "    k = len(theta.pi)\n",
        "\n",
        "    for j in range(k):\n",
        "        weight = np.sum(gamma[:, j], axis=0)\n",
        "        theta.mu[j] = np.sum(gamma[:, j].reshape(n, 1) * data, axis=0) / weight\n",
        "        diff = data - theta.mu[j]\n",
        "        theta.Sigma[j] = np.dot(gamma[:, j] * diff.T, diff) / weight\n",
        "\n",
        "    theta.pi = np.sum(gamma, axis=0) / n\n",
        "\n",
        "    return theta"
      ]
    },
    {
      "cell_type": "code",
      "execution_count": 29,
      "metadata": {
        "id": "1x4f07lrNKef"
      },
      "outputs": [],
      "source": [
        "def EM(theta, data, n_iter=500):\n",
        "    \"\"\"\n",
        "    TODO: implement the EM algorithm.\n",
        "    Be sure to call the above two functions `E_step` and `M_step`.\n",
        "    `theta` is the `Theta` class above; `data` is the `data` above.\n",
        "    Return the updated `theta` values and the historical record of objective.\n",
        "    \"\"\"\n",
        "    obj_history = []\n",
        "\n",
        "    for i in range(n_iter):\n",
        "        theta, gamma = E_step(theta, data)\n",
        "        theta = M_step(theta, data, gamma)\n",
        "\n",
        "        obj = GMM_objective(theta, data)\n",
        "        obj_history.append(obj)\n",
        "        if i % 100 == 0:\n",
        "            print(f\"Iteration {i}/{n_iters} - Objective: {obj}\")\n",
        "\n",
        "    return theta, obj_history"
      ]
    },
    {
      "cell_type": "markdown",
      "metadata": {
        "id": "gg12enOdNKef"
      },
      "source": [
        "#### Exercise 3.3.4 (10 points)\n",
        "\n",
        "Based on the saved intermediate values of log-likelihood for the values above, plot and observe the behavior of log-likelihood in each case.\n",
        "Summarize your observations. This execrise is open-ended."
      ]
    },
    {
      "cell_type": "code",
      "execution_count": 34,
      "metadata": {
        "colab": {
          "base_uri": "https://localhost:8080/"
        },
        "id": "r7N6_F3fNKef",
        "outputId": "392219b6-b127-4200-e82c-85fde4c59a37"
      },
      "outputs": [
        {
          "output_type": "stream",
          "name": "stdout",
          "text": [
            "Iteration 0/500 - Objective: 644.6438666172434\n",
            "Iteration 100/500 - Objective: 127.92780067432024\n",
            "Iteration 200/500 - Objective: 61.559251528847064\n",
            "Iteration 300/500 - Objective: 21.02828531940623\n",
            "Iteration 400/500 - Objective: -7.438811549871323\n",
            "Iteration 0/1000 - Objective: 370.73377267871257\n",
            "Iteration 100/1000 - Objective: 318.83082085194144\n",
            "Iteration 200/1000 - Objective: 318.83082085194144\n",
            "Iteration 300/1000 - Objective: 318.83082085194144\n",
            "Iteration 400/1000 - Objective: 318.83082085194144\n"
          ]
        }
      ],
      "source": [
        "# TODO: Plot the intermediate values of log-likelihood in each case\n",
        "theta_old_ga = Theta(\n",
        "    pi=np.array([0.4, 0.3, 0.3]),\n",
        "    mu=np.array([\n",
        "        [0.0, 0.0],\n",
        "        [3.0, 1.0],\n",
        "        [4.0, 3.0]\n",
        "    ]),\n",
        "    Sigma=np.array([\n",
        "        [[1.0, 0.5],[0.5, 1.0]],\n",
        "        [[1.0, 0.5],[0.5, 1.0]],\n",
        "        [[1.0, 0.5],[0.5, 1.0]]\n",
        "    ])\n",
        ")\n",
        "\n",
        "theta_old_em = Theta(\n",
        "    pi=np.array([0.4, 0.3, 0.3]),\n",
        "    mu=np.array([\n",
        "        [0.0, 0.0],\n",
        "        [3.0, 1.0],\n",
        "        [4.0, 3.0]\n",
        "    ]),\n",
        "    Sigma=np.array([\n",
        "        [[1.0, 0.5],[0.5, 1.0]],\n",
        "        [[1.0, 0.5],[0.5, 1.0]],\n",
        "        [[1.0, 0.5],[0.5, 1.0]]\n",
        "    ])\n",
        ")\n",
        "# Run gradient ascent algorithm\n",
        "updated_theta_gradient_ascent, obj_history_gradient_ascent = GMM_gradient_ascent(theta_old_ga)\n",
        "# Run EM algorithm and plot the convergence behavior\n",
        "updated_theta_em, obj_history_em = EM(theta_old_em, data)\n",
        "iterations = range(len(obj_history_em))"
      ]
    },
    {
      "cell_type": "code",
      "source": [
        "plt.figure(figsize=(10, 6))\n",
        "plt.plot(iterations, obj_history_gradient_ascent, label='Gradient Ascent')\n",
        "plt.plot(iterations, obj_history_em, label='EM Algorithm')\n",
        "plt.xlabel('Iterations')\n",
        "plt.ylabel('Negative Log-Likelihood')\n",
        "plt.title('Comparison of Negative Log-Likelihood')\n",
        "plt.legend()\n",
        "plt.show()"
      ],
      "metadata": {
        "colab": {
          "base_uri": "https://localhost:8080/",
          "height": 582
        },
        "id": "0O4jH4xGXke9",
        "outputId": "5a59f462-b5d2-4a66-a359-9060e09f5a23"
      },
      "execution_count": 35,
      "outputs": [
        {
          "output_type": "display_data",
          "data": {
            "text/plain": [
              "<Figure size 1000x600 with 1 Axes>"
            ],
            "image/png": "[encoded data removed]"
          },
          "metadata": {}
        }
      ]
    },
    {
      "cell_type": "markdown",
      "metadata": {
        "id": "qGrWD4MyNKef"
      },
      "source": [
        "**[TODO: Write your answer here]**\n",
        "\n",
        "The gradient ascent algorithm converges to a lower negative log-likelihood objective than the EM algorithm. The EM algorithm, however, converges far faster."
      ]
    }
  ],
  "metadata": {
    "kernelspec": {
      "display_name": "base",
      "language": "python",
      "name": "python3"
    },
    "language_info": {
      "codemirror_mode": {
        "name": "ipython",
        "version": 3
      },
      "file_extension": ".py",
      "mimetype": "text/x-python",
      "name": "python",
      "nbconvert_exporter": "python",
      "pygments_lexer": "ipython3",
      "version": "3.9.6"
    },
    "colab": {
      "provenance": []
    }
  },
  "nbformat": 4,
  "nbformat_minor": 0
}