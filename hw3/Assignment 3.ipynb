{
  "cells": [
    {
      "cell_type": "markdown",
      "metadata": {
        "id": "inIexgPuYadC"
      },
      "source": [
        "# CS247 Advanced Data Mining - Assignment 3\n",
        "## Deadline: 11:59PM, February 7, 2023\n",
        "\n",
        "## Instructions\n",
        "Each assignment is structured as a Jupyter notebook, offering interactive tutorials that align with our lectures. You will encounter two types of problems: *write-up problems* and *coding problems*.\n",
        "\n",
        "1. **Write-up Problems:** These problems are primarily theoretical, requiring you to demonstrate your understanding of lecture concepts and to provide mathematical proofs for key theorems. Your answers should include sufficient steps for the mathematical derivations.\n",
        "2. **Coding Problems:** Here, you will be engaging with practical coding tasks. These may involve completing code segments provided in the notebooks or developing models from scratch.\n",
        "\n",
        "To ensure clarity and consistency in your submissions, please adhere to the following guidelines:\n",
        "\n",
        "* For write-up problems, use Markdown bullet points to format text answers. Also, express all mathematical equations using $\\LaTeX$ and avoid plain text such as `x0`, `x^1`, or `R x Q` for equations.\n",
        "* For coding problems, comment on your code thoroughly for readability and ensure your code is executable. Non-runnable code may lead to a loss of **all** points. Coding problems have automated grading, and altering the grading code will result in a deduction of **all** points.\n",
        "* Your submission should show the entire process of data loading, preprocessing, model implementation, training, and result analysis. This can be achieved through a mix of explanatory text cells, inline comments, intermediate result displays, and experimental visualizations.\n",
        "\n",
        "### Submission Requirements\n",
        "\n",
        "* Submit your solutions through GradeScope in BruinLearn.\n",
        "* Late submissions are allowed up to 24 hours post-deadline with a penalty factor of $\\mathbf{1}(t\\leq24)e^{-(\\ln(2)/12)t}$.\n",
        "\n",
        "### Collaboration and Integrity\n",
        "\n",
        "* Collaboration is encouraged, but all final submissions must be your own work. Please acknowledge any collaboration or external sources used, including websites, papers, and GitHub repositories.\n",
        "* Any suspicious cases of academic misconduct will be reported to The Office of the Dean of Students.\n",
        "\n",
        "## Outline\n",
        "* Part 1: Topic Model Continued\n",
        "* Part 2: Word Embeddings"
      ]
    },
    {
      "cell_type": "markdown",
      "metadata": {
        "id": "Cv2_-AzxYadH"
      },
      "source": [
        "#### GPU Support\n",
        "\n",
        "Considering the size of the training data, it is strongly suggested to use [Google Colab](https://colab.research.google.com/) or a GPU server for this exercise. If you are using Colab, you can manually switch to a CPU device on Colab by clicking `Runtime -> Change runtime type` and selecting `GPU` under `Hardware Accelerator`."
      ]
    },
    {
      "cell_type": "code",
      "execution_count": 1,
      "metadata": {
        "id": "JR7caxfAYadH"
      },
      "outputs": [],
      "source": [
        "import torch\n",
        "\n",
        "USE_GPU = True\n",
        "\n",
        "if USE_GPU and torch.cuda.is_available():\n",
        "    device = torch.device('cuda')\n",
        "elif USE_GPU and torch.backends.mps.is_available():\n",
        "    device = torch.device('mps')\n",
        "else:\n",
        "    device = torch.device('cpu')\n"
      ]
    },
    {
      "cell_type": "markdown",
      "metadata": {
        "id": "1Y5n5ZFPYadJ"
      },
      "source": [
        "## Part 1: Topic Models Continued (35 points)\n",
        "\n",
        "Please see the attached PDF for the write-up problems."
      ]
    },
    {
      "cell_type": "markdown",
      "metadata": {
        "id": "K4-7ZRvUYadJ"
      },
      "source": [
        "## Part 2: Language Modeling (65 points + 20 bonus points)"
      ]
    },
    {
      "cell_type": "markdown",
      "metadata": {
        "id": "b_-wg6ZiYadJ"
      },
      "source": [
        "### Section 1: Skip-Gram and Word2Vec (55 points + 10 bonus points)\n",
        "\n",
        "The first section of this exercise is to implement and analyze a Skip-Gram model for language modeling, with a focus on understanding and experimenting with negative sampling techniques."
      ]
    },
    {
      "cell_type": "markdown",
      "metadata": {
        "id": "UgjVaBW1YadK"
      },
      "source": [
        "#### Environment Setup\n",
        "Install the following packages:\n",
        "* `torch`\n",
        "* `torchdata`\n",
        "* `torchtext`\n",
        "* `portalocker`\n",
        "* `nltk`"
      ]
    },
    {
      "cell_type": "code",
      "execution_count": 2,
      "metadata": {
        "colab": {
          "base_uri": "https://localhost:8080/"
        },
        "id": "CyMdMT-xYadK",
        "outputId": "91984169-779c-4aed-8ada-95e2528c3b91"
      },
      "outputs": [
        {
          "output_type": "stream",
          "name": "stdout",
          "text": [
            "Requirement already satisfied: torchtext>=0.16 in /usr/local/lib/python3.10/dist-packages (0.16.0)\n",
            "Requirement already satisfied: tqdm in /usr/local/lib/python3.10/dist-packages (from torchtext>=0.16) (4.66.1)\n",
            "Requirement already satisfied: requests in /usr/local/lib/python3.10/dist-packages (from torchtext>=0.16) (2.31.0)\n",
            "Requirement already satisfied: torch==2.1.0 in /usr/local/lib/python3.10/dist-packages (from torchtext>=0.16) (2.1.0+cu121)\n",
            "Requirement already satisfied: numpy in /usr/local/lib/python3.10/dist-packages (from torchtext>=0.16) (1.23.5)\n",
            "Requirement already satisfied: torchdata==0.7.0 in /usr/local/lib/python3.10/dist-packages (from torchtext>=0.16) (0.7.0)\n",
            "Requirement already satisfied: filelock in /usr/local/lib/python3.10/dist-packages (from torch==2.1.0->torchtext>=0.16) (3.13.1)\n",
            "Requirement already satisfied: typing-extensions in /usr/local/lib/python3.10/dist-packages (from torch==2.1.0->torchtext>=0.16) (4.9.0)\n",
            "Requirement already satisfied: sympy in /usr/local/lib/python3.10/dist-packages (from torch==2.1.0->torchtext>=0.16) (1.12)\n",
            "Requirement already satisfied: networkx in /usr/local/lib/python3.10/dist-packages (from torch==2.1.0->torchtext>=0.16) (3.2.1)\n",
            "Requirement already satisfied: jinja2 in /usr/local/lib/python3.10/dist-packages (from torch==2.1.0->torchtext>=0.16) (3.1.3)\n",
            "Requirement already satisfied: fsspec in /usr/local/lib/python3.10/dist-packages (from torch==2.1.0->torchtext>=0.16) (2023.6.0)\n",
            "Requirement already satisfied: triton==2.1.0 in /usr/local/lib/python3.10/dist-packages (from torch==2.1.0->torchtext>=0.16) (2.1.0)\n",
            "Requirement already satisfied: urllib3>=1.25 in /usr/local/lib/python3.10/dist-packages (from torchdata==0.7.0->torchtext>=0.16) (2.0.7)\n",
            "Requirement already satisfied: charset-normalizer<4,>=2 in /usr/local/lib/python3.10/dist-packages (from requests->torchtext>=0.16) (3.3.2)\n",
            "Requirement already satisfied: idna<4,>=2.5 in /usr/local/lib/python3.10/dist-packages (from requests->torchtext>=0.16) (3.6)\n",
            "Requirement already satisfied: certifi>=2017.4.17 in /usr/local/lib/python3.10/dist-packages (from requests->torchtext>=0.16) (2024.2.2)\n",
            "Requirement already satisfied: MarkupSafe>=2.0 in /usr/local/lib/python3.10/dist-packages (from jinja2->torch==2.1.0->torchtext>=0.16) (2.1.5)\n",
            "Requirement already satisfied: mpmath>=0.19 in /usr/local/lib/python3.10/dist-packages (from sympy->torch==2.1.0->torchtext>=0.16) (1.3.0)\n"
          ]
        }
      ],
      "source": [
        "# %conda install -c pytorch 'torchtext>=0.16'\n",
        "%pip install 'torchtext>=0.16'"
      ]
    },
    {
      "cell_type": "code",
      "execution_count": 3,
      "metadata": {
        "colab": {
          "base_uri": "https://localhost:8080/"
        },
        "id": "z7rUh4kMYadL",
        "outputId": "5c9d09f3-9826-491c-f140-b8d4cbcac4d5"
      },
      "outputs": [
        {
          "output_type": "stream",
          "name": "stdout",
          "text": [
            "Requirement already satisfied: nltk in /usr/local/lib/python3.10/dist-packages (3.8.1)\n",
            "Requirement already satisfied: click in /usr/local/lib/python3.10/dist-packages (from nltk) (8.1.7)\n",
            "Requirement already satisfied: joblib in /usr/local/lib/python3.10/dist-packages (from nltk) (1.3.2)\n",
            "Requirement already satisfied: regex>=2021.8.3 in /usr/local/lib/python3.10/dist-packages (from nltk) (2023.12.25)\n",
            "Requirement already satisfied: tqdm in /usr/local/lib/python3.10/dist-packages (from nltk) (4.66.1)\n",
            "Collecting portalocker>=2.0.0\n",
            "  Downloading portalocker-2.8.2-py3-none-any.whl (17 kB)\n",
            "Installing collected packages: portalocker\n",
            "Successfully installed portalocker-2.8.2\n"
          ]
        }
      ],
      "source": [
        "%pip install -U nltk\n",
        "%pip install -U 'portalocker>=2.0.0'"
      ]
    },
    {
      "cell_type": "code",
      "execution_count": 4,
      "metadata": {
        "id": "QwJQwu5NYadL"
      },
      "outputs": [],
      "source": [
        "# Imports\n",
        "import nltk\n",
        "import numpy as np\n",
        "import torch\n",
        "import random\n",
        "import torch.nn as nn\n",
        "import torch.optim as optim\n",
        "import collections\n",
        "\n",
        "from tqdm import tqdm\n",
        "from torchtext.datasets import AG_NEWS\n",
        "from nltk.tokenize import word_tokenize\n",
        "from torch.utils.data import DataLoader, Dataset"
      ]
    },
    {
      "cell_type": "markdown",
      "metadata": {
        "id": "NvnwZW-jYadL"
      },
      "source": [
        "#### Exercise 1: Data Preprocessing (10 points)\n",
        "\n",
        "Data preprocessing is a crucial step in any machine learning task. For the Skip-Gram model, the main goal is to convert raw text into a format that can be fed into the neural network. This involves loading the dataset, tokenizing the text, building a vocabulary, and generating context-target pairs.\n",
        "* Tokenization: Convert the raw text into tokens (words).\n",
        "* Vocabulary Building: Create a mapping of unique words to integers (word indices).\n",
        "* Context-Target Pair Generation: For each word in the text, you will generate context-target pairs based on a specified window size. For example, with a window size of 2, for each word, the two words before and after become its context.\n",
        "\n",
        "We will use the AG News dataset, a collection of news articles categorized into four classes. For our purpose, we are only interested in the textual content.\n",
        "The following cell has already completed the first two steps for you. You will need to complete the third step to generate context-target pairs."
      ]
    },
    {
      "cell_type": "code",
      "execution_count": 5,
      "metadata": {
        "colab": {
          "base_uri": "https://localhost:8080/"
        },
        "id": "ArIOep-zYadL",
        "outputId": "95136d15-ddef-4082-b77c-f2680f60c9be"
      },
      "outputs": [
        {
          "output_type": "stream",
          "name": "stderr",
          "text": [
            "[nltk_data] Downloading package punkt to /root/nltk_data...\n",
            "[nltk_data]   Unzipping tokenizers/punkt.zip.\n"
          ]
        }
      ],
      "source": [
        "nltk.download('punkt')\n",
        "\n",
        "class CustomDataset(Dataset):\n",
        "    def __init__(self, texts, window_size=2):\n",
        "        self.tokenized_texts = [word_tokenize(text.lower()) for text in texts]\n",
        "        self.vocab = self.build_vocab(self.tokenized_texts)\n",
        "        self.word_to_idx = {word: i for i, word in enumerate(self.vocab.keys())}\n",
        "        self.idx_to_word = {i: word for word, i in self.word_to_idx.items()}\n",
        "        self.data = self.generate_training_data(window_size)\n",
        "\n",
        "    def build_vocab(self, texts):\n",
        "        # Build a vocabulary with word frequencies for dataset\n",
        "        vocab = collections.Counter()\n",
        "        for text in texts:\n",
        "            vocab.update(text)\n",
        "        # Filter out words that appear less than 5 times\n",
        "        vocab = {word: freq for word, freq in vocab.items() if freq > 5}\n",
        "        return vocab\n",
        "\n",
        "    def generate_training_data(self, window_size):\n",
        "        # Build training data by scanning through each sentence in the dataset\n",
        "        # For each word, we build a (center_word, context_word) pair if the context_word falls within the window_size window\n",
        "        # Please note that we will skip the token that is not within `self.vocab`\n",
        "\n",
        "        # TODO: Implement this function to generate a list of (center_word, context_word) tuples\n",
        "        training_data = []\n",
        "        for text in self.tokenized_texts:\n",
        "            for i, center_word in enumerate(text):\n",
        "                for j in range(max(0, i - window_size), min(len(text), i + window_size + 1)):\n",
        "                    if i != j and center_word in self.vocab and text[j] in self.vocab:\n",
        "                        training_data.append((self.word_to_idx[center_word], self.word_to_idx[text[j]]))\n",
        "\n",
        "\n",
        "        return training_data\n",
        "\n",
        "    def __len__(self):\n",
        "        return len(self.data)\n",
        "\n",
        "    def __getitem__(self, idx):\n",
        "        center_word, context_word = self.data[idx]\n",
        "        return torch.tensor(center_word), torch.tensor(context_word)\n",
        "\n",
        "news = AG_NEWS(split='test')\n",
        "dataset = CustomDataset([text for _, text in news])\n",
        "dataloader = DataLoader(dataset, batch_size=1024, shuffle=True)"
      ]
    },
    {
      "cell_type": "code",
      "execution_count": 6,
      "metadata": {
        "colab": {
          "base_uri": "https://localhost:8080/"
        },
        "id": "etz3GFd1YadM",
        "outputId": "a21b13e2-2a25-4e30-81bb-71ee988f7264"
      },
      "outputs": [
        {
          "output_type": "stream",
          "name": "stdout",
          "text": [
            "fears -> for\n",
            "fears -> t\n",
            "for -> fears\n",
            "for -> t\n",
            "t -> fears\n",
            "t -> for\n",
            "t -> pension\n",
            "pension -> t\n",
            "pension -> after\n",
            "pension -> talks\n",
            "after -> pension\n",
            "['fears', 'for', 't', 'n', 'pension', 'after', 'talks', 'unions', 'representing', 'workers', 'at', 'turner', 'newall', 'say', 'they', 'are', \"'disappointed\", \"'\", 'after', 'talks', 'with', 'stricken', 'parent', 'firm', 'federal', 'mogul', '.']\n"
          ]
        }
      ],
      "source": [
        "# Verify that the dataset is constructed as expected\n",
        "for i, data in enumerate(dataset):\n",
        "    center_word, context_word = data\n",
        "    print(dataset.idx_to_word[center_word.item()], '->', dataset.idx_to_word[context_word.item()])\n",
        "    if i >= 10:\n",
        "        break\n",
        "print(dataset.tokenized_texts[0])"
      ]
    },
    {
      "cell_type": "markdown",
      "metadata": {
        "id": "kOV1taQTYadM"
      },
      "source": [
        "#### Execrise 2 (5 points)\n",
        "In the above code, we only consider very simple tokenization of the training corpus.\n",
        "In fact, there are many other ways to tokenize the text, such as [stemming](https://en.wikipedia.org/wiki/Stemming) and [lemmatization](https://en.wikipedia.org/wiki/Lemmatization). Explain the reason why or why not we should use stemming and/or lemmatization in this task."
      ]
    },
    {
      "cell_type": "markdown",
      "metadata": {
        "id": "qniU5LWmYadM"
      },
      "source": [
        "**[TODO: Write your answer here]**\n",
        "\n",
        "For the specific task of generating word embeddings, using simple tokenization (as done with `word_tokenize` in the code) is a common practice since word embeddings often capture semantic relationships between words, and overly aggressive stemming/lemmatization might result in loss of important information without gleaning any new information necessarily."
      ]
    },
    {
      "cell_type": "markdown",
      "metadata": {
        "id": "SBuoynsCYadM"
      },
      "source": [
        "#### Exercise 3: Model Implementation without Negative Sampling (4 points)\n",
        "\n",
        "The Skip-Gram model takes a target word as input and tries to predict its context words.\n",
        "In this exercise, please implement the Skip-Gram model using PyTorch. The model should have an [`torch.nn.embedding`](https://pytorch.org/docs/stable/generated/torch.nn.Embedding.html) layer to convert word indices to dense vectors and a [`torch.nn.linear`](https://pytorch.org/docs/stable/generated/torch.nn.Linear.html) layer to predict context words.\n",
        "Then, implement the `forward` function to define how data will pass through your model. It involves taking input words, transforming them through the embedding layer, and then making predictions using the linear layer."
      ]
    },
    {
      "cell_type": "code",
      "execution_count": 7,
      "metadata": {
        "id": "sPDRb4BjYadM"
      },
      "outputs": [],
      "source": [
        "class SkipGramModel(nn.Module):\n",
        "    def __init__(self, vocab_size, embedding_dim):\n",
        "        super(SkipGramModel, self).__init__()\n",
        "        # TODO: Implement the Skip-Gram model architecture\n",
        "        self.embeddings = nn.Embedding(vocab_size, embedding_dim)\n",
        "        self.linear = nn.Linear(embedding_dim, vocab_size)\n",
        "\n",
        "    def forward(self, center_words):\n",
        "        out = None\n",
        "        # TODO: Implement the forward pass of the Skip-Gram model\n",
        "        embedded = self.embeddings(center_words)\n",
        "        out = self.linear(embedded)\n",
        "        return out"
      ]
    },
    {
      "cell_type": "markdown",
      "metadata": {
        "id": "_CzV6cKHYadM"
      },
      "source": [
        "#### Exercise 4: Model Evaluation by Finding Similar Words (5 points)\n",
        "\n",
        "Before implementing the training procedure, we can think about evaluating the model by finding similar words. The similarity between two words can be measured by the cosine similarity between their embeddings. The higher the cosine similarity, the more similar the two words are. For example, the cosine similarity between \"cat\" and \"dog\" should be higher than the cosine similarity between \"cat\" and \"car\".\n",
        "\n",
        "In this exercise, you will implement a function to find the top-k most similar words to a given word. You will need to compute the cosine similarity between the given word and all other words in the vocabulary. Then, you will return the top-k words with the highest cosine similarity."
      ]
    },
    {
      "cell_type": "code",
      "execution_count": 8,
      "metadata": {
        "id": "S0ONHZkHYadM"
      },
      "outputs": [],
      "source": [
        "from torch.nn.functional import cosine_similarity\n",
        "\n",
        "def find_most_similar(word, embedding_matrix, word_to_idx, idx_to_word, top_k=5):\n",
        "    \"\"\"\n",
        "    Find the top_k most similar words to the given word based on cosine similarity\n",
        "    :param word: The word to query\n",
        "    :param embedding_matrix: The embedding matrix to query\n",
        "    :param word_to_idx: The word-to-index mapping\n",
        "    :param idx_to_word: The index-to-word mapping\n",
        "    :param top_k: The number of most similar words to return\n",
        "\n",
        "    :return: A list of (word, similarity) pairs of length top_k, sorted by the similarity in descending order\n",
        "            Each pair denotes the most similar word to the given word and their cosine similarity.\n",
        "    \"\"\"\n",
        "    if word not in word_to_idx:\n",
        "        return f'Word {word} not in vocabulary!'\n",
        "\n",
        "    word_idx = torch.tensor([word_to_idx[word]]).to(device)\n",
        "    word_embedding = embedding_matrix(word_idx)\n",
        "    similar_words = []\n",
        "    # TODO: Calculate the cosine similarity between the query word and all words in the vocabulary\n",
        "    similarities = cosine_similarity(word_embedding, embedding_matrix.weight, dim=1)\n",
        "    _, top_indices = torch.topk(similarities, top_k + 1)\n",
        "    similar_words = [(idx_to_word[idx.item()], similarities[idx].item()) for idx in top_indices if idx.item() != word_idx.item()]\n",
        "    return similar_words[:top_k]"
      ]
    },
    {
      "cell_type": "markdown",
      "metadata": {
        "id": "ixRKmCk9YadN"
      },
      "source": [
        "After implementing the function, you can run the following cell to find the top-5 most similar words to \"Basketball\".\n",
        "Note that since the model is not trained yet, the results should be random."
      ]
    },
    {
      "cell_type": "code",
      "execution_count": 9,
      "metadata": {
        "colab": {
          "base_uri": "https://localhost:8080/"
        },
        "id": "MjzUO1hhYadN",
        "outputId": "b24a5b28-1eea-41f4-f488-7635f75d2a77"
      },
      "outputs": [
        {
          "output_type": "stream",
          "name": "stdout",
          "text": [
            "Model: SkipGramModel(\n",
            "  (embeddings): Embedding(5748, 100)\n",
            "  (linear): Linear(in_features=100, out_features=5748, bias=True)\n",
            ")\n",
            "Words similar to 'basketball':\n",
            "  1. requires: 36.26%\n",
            "  2. wrong: 32.59%\n",
            "  3. nikkei: 30.56%\n",
            "  4. deliver: 30.55%\n",
            "  5. size=: 30.53%\n"
          ]
        }
      ],
      "source": [
        "def evaluate(model, embedding_matrix, valid_word):\n",
        "    similar_words = find_most_similar(valid_word, embedding_matrix, dataset.word_to_idx, dataset.idx_to_word)\n",
        "    print(f\"Model: {model}\")\n",
        "    print(f\"Words similar to '{valid_word}':\")\n",
        "    for i, (word, similarity) in enumerate(similar_words):\n",
        "        print(f'  {i + 1}. {word}: {similarity * 100:.2f}%')\n",
        "\n",
        "embedding_dim = 100\n",
        "vocab_size = len(dataset.vocab)\n",
        "skipgram_model = SkipGramModel(vocab_size, embedding_dim).to(device)\n",
        "\n",
        "evaluate(skipgram_model, skipgram_model.embeddings, 'basketball')"
      ]
    },
    {
      "cell_type": "markdown",
      "metadata": {
        "id": "MAswbylsYadN"
      },
      "source": [
        "Besides word similarity, we can also quantitatively evaluate the model on some downstream tasks. Here, we adopt the WordSim-353 dataset, which contains 353 pairs of words and their similarity scores. The similarity scores are human-annotated and range from 0 to 10.\n",
        "We can use the cosine similarity between the embeddings of two words as the predicted similarity score. Then, we can compute the Spearman's rank correlation coefficient between the predicted and the human-annotated similarity scores. The higher the Spearman's rank correlation coefficient, the better the model performs."
      ]
    },
    {
      "cell_type": "code",
      "execution_count": 10,
      "metadata": {
        "id": "vTu9PmskYadN"
      },
      "outputs": [],
      "source": [
        "def get_embedding(word, embeddings, word_to_idx):\n",
        "    idx = word_to_idx.get(word)\n",
        "    if idx is not None:\n",
        "        idx = torch.tensor([idx]).to(device)\n",
        "        return embeddings(idx).detach().cpu().numpy()\n",
        "    else:\n",
        "        return None"
      ]
    },
    {
      "cell_type": "code",
      "execution_count": 11,
      "metadata": {
        "colab": {
          "base_uri": "https://localhost:8080/"
        },
        "id": "Q8o_6RwaYadN",
        "outputId": "a8745e5e-86e7-4c58-f84f-414081164f35"
      },
      "outputs": [
        {
          "output_type": "stream",
          "name": "stdout",
          "text": [
            "Spearman correlation: 0.09279212580872923\n"
          ]
        }
      ],
      "source": [
        "import pandas as pd\n",
        "from sklearn.metrics.pairwise import cosine_similarity as cos_sim\n",
        "from scipy.stats import spearmanr\n",
        "\n",
        "def wordsim(embedding_matrix):\n",
        "    wordsim_data = pd.read_csv('wordsim.txt', sep='\\t', header=None, names=['Word 1', 'Word 2', 'Similarity'])\n",
        "\n",
        "    # Calculate cosine similarities\n",
        "    cosine_similarities = []\n",
        "    for _, row in wordsim_data.iterrows():\n",
        "        word1, word2, human_score = row['Word 1'], row['Word 2'], row['Similarity']\n",
        "        embedding1 = get_embedding(word1, embedding_matrix, dataset.word_to_idx)\n",
        "        embedding2 = get_embedding(word2, embedding_matrix, dataset.word_to_idx)\n",
        "\n",
        "        if embedding1 is not None and embedding2 is not None:\n",
        "            sim = cos_sim(embedding1, embedding2)[0][0]\n",
        "            cosine_similarities.append((human_score, sim))\n",
        "\n",
        "    # Calculate Spearman's rank correlation\n",
        "    human_scores, model_scores = zip(*cosine_similarities)\n",
        "    correlation, _ = spearmanr(human_scores, model_scores)\n",
        "    print(f'Spearman correlation: {correlation}')\n",
        "\n",
        "wordsim(skipgram_model.embeddings)"
      ]
    },
    {
      "cell_type": "markdown",
      "metadata": {
        "id": "YzjU4oMCYadN"
      },
      "source": [
        "#### Exercise 5: Model Training (5 points)\n",
        "\n",
        "Implement the `train_skipgram` function to train the model. The function should take a batch of context-target pairs as input and return the loss. You will need to compute the objective function using the negative log-likelihood loss. Then, you will need to update the model parameters using the optimizer.\n",
        "Note that in PyTorch, [`CrossEntropyLoss` combines `LogSoftmax` and `NLLLoss` in a single class](https://towardsdatascience.com/cross-entropy-negative-log-likelihood-and-all-that-jazz-47a95bd2e81). Therefore, you can directly use `CrossEntropyLoss` to compute the negative log-likelihood loss.\n",
        "\n",
        "Here we use the [Adam optimizer](https://pytorch.org/docs/stable/optim.html#torch.optim.Adam) with a learning rate of 0.01. During last week's discussions, we mentioned the importance of choosing appropriate optimizers and learning rates. In practice, the Adam optimizer is a good choice for many tasks, while SGD can lead to better convergence in some cases. However, the choice of learning rate can be more tricky. In general, a learning rate that is too small will lead to slow convergence, while a learning rate that is too large will lead to divergence. In this exercise, you can use the default learning rate of 0.01. However, you are encouraged to experiment with different optimizers and/or learning rates and observe the impact on the training process.\n",
        "\n",
        "For every 5 epochs, you will need to evaluate the model by finding the top-5 most similar words to \"Basketball\". You should observe that as the training progresses, the model is able to find more relevant words for \"Basketball\". On a GPU server, it should take about 10 minutes to finish training for 50 epochs."
      ]
    },
    {
      "cell_type": "code",
      "execution_count": null,
      "metadata": {
        "id": "Q3F-66-BYadN"
      },
      "outputs": [],
      "source": [
        "learning_rate = 0.01\n",
        "optimizer = optim.Adam(skipgram_model.parameters(), lr=learning_rate)"
      ]
    },
    {
      "cell_type": "code",
      "execution_count": null,
      "metadata": {
        "colab": {
          "base_uri": "https://localhost:8080/"
        },
        "id": "fxMyR-HeYadN",
        "outputId": "4c8c52c6-47dc-40c7-b075-523ba12c736f"
      },
      "outputs": [
        {
          "output_type": "stream",
          "name": "stdout",
          "text": [
            "Epoch 5, Loss: 5823.867813110352\n",
            "Model: SkipGramModel(\n",
            "  (embeddings): Embedding(5748, 100)\n",
            "  (linear): Linear(in_features=100, out_features=5748, bias=True)\n",
            ")\n",
            "Words similar to 'basketball':\n",
            "  1. soccer: 54.17%\n",
            "  2. football: 52.80%\n",
            "  3. volleyball: 50.86%\n",
            "  4. revenge: 47.75%\n",
            "  5. restive: 45.64%\n",
            "Epoch 10, Loss: 5712.2341957092285\n",
            "Model: SkipGramModel(\n",
            "  (embeddings): Embedding(5748, 100)\n",
            "  (linear): Linear(in_features=100, out_features=5748, bias=True)\n",
            ")\n",
            "Words similar to 'basketball':\n",
            "  1. soccer: 56.70%\n",
            "  2. football: 50.75%\n",
            "  3. volleyball: 47.98%\n",
            "  4. byu: 39.93%\n",
            "  5. ian: 39.11%\n",
            "Epoch 15, Loss: 5681.819180965424\n",
            "Model: SkipGramModel(\n",
            "  (embeddings): Embedding(5748, 100)\n",
            "  (linear): Linear(in_features=100, out_features=5748, bias=True)\n",
            ")\n",
            "Words similar to 'basketball':\n",
            "  1. soccer: 56.80%\n",
            "  2. football: 50.97%\n",
            "  3. volleyball: 43.37%\n",
            "  4. cos.: 40.30%\n",
            "  5. nevada: 37.96%\n",
            "Epoch 20, Loss: 5668.260522842407\n",
            "Model: SkipGramModel(\n",
            "  (embeddings): Embedding(5748, 100)\n",
            "  (linear): Linear(in_features=100, out_features=5748, bias=True)\n",
            ")\n",
            "Words similar to 'basketball':\n",
            "  1. soccer: 52.87%\n",
            "  2. football: 51.44%\n",
            "  3. volleyball: 50.28%\n",
            "  4. player: 39.24%\n",
            "  5. cos.: 38.63%\n",
            "Epoch 25, Loss: 5661.346523284912\n",
            "Model: SkipGramModel(\n",
            "  (embeddings): Embedding(5748, 100)\n",
            "  (linear): Linear(in_features=100, out_features=5748, bias=True)\n",
            ")\n",
            "Words similar to 'basketball':\n",
            "  1. soccer: 52.86%\n",
            "  2. football: 47.12%\n",
            "  3. volleyball: 44.41%\n",
            "  4. cos.: 40.94%\n",
            "  5. material: 39.03%\n",
            "Epoch 30, Loss: 5657.720062255859\n",
            "Model: SkipGramModel(\n",
            "  (embeddings): Embedding(5748, 100)\n",
            "  (linear): Linear(in_features=100, out_features=5748, bias=True)\n",
            ")\n",
            "Words similar to 'basketball':\n",
            "  1. football: 57.11%\n",
            "  2. soccer: 52.45%\n",
            "  3. cos.: 44.65%\n",
            "  4. volleyball: 43.22%\n",
            "  5. player: 39.43%\n",
            "Epoch 35, Loss: 5654.599548339844\n",
            "Model: SkipGramModel(\n",
            "  (embeddings): Embedding(5748, 100)\n",
            "  (linear): Linear(in_features=100, out_features=5748, bias=True)\n",
            ")\n",
            "Words similar to 'basketball':\n",
            "  1. soccer: 49.91%\n",
            "  2. football: 47.78%\n",
            "  3. volleyball: 42.71%\n",
            "  4. cos.: 38.34%\n",
            "  5. uefa: 36.82%\n",
            "Epoch 40, Loss: 5651.733687400818\n",
            "Model: SkipGramModel(\n",
            "  (embeddings): Embedding(5748, 100)\n",
            "  (linear): Linear(in_features=100, out_features=5748, bias=True)\n",
            ")\n",
            "Words similar to 'basketball':\n",
            "  1. soccer: 50.67%\n",
            "  2. football: 50.54%\n",
            "  3. volleyball: 45.28%\n",
            "  4. cos.: 37.74%\n",
            "  5. material: 33.47%\n",
            "Epoch 45, Loss: 5650.935758590698\n",
            "Model: SkipGramModel(\n",
            "  (embeddings): Embedding(5748, 100)\n",
            "  (linear): Linear(in_features=100, out_features=5748, bias=True)\n",
            ")\n",
            "Words similar to 'basketball':\n",
            "  1. soccer: 51.03%\n",
            "  2. football: 49.35%\n",
            "  3. volleyball: 43.53%\n",
            "  4. beagle: 36.82%\n",
            "  5. cos.: 36.12%\n",
            "Epoch 50, Loss: 5649.323451519012\n",
            "Model: SkipGramModel(\n",
            "  (embeddings): Embedding(5748, 100)\n",
            "  (linear): Linear(in_features=100, out_features=5748, bias=True)\n",
            ")\n",
            "Words similar to 'basketball':\n",
            "  1. soccer: 51.88%\n",
            "  2. football: 50.83%\n",
            "  3. volleyball: 41.16%\n",
            "  4. secured: 35.40%\n",
            "  5. cos.: 35.06%\n",
            "Spearman correlation: 0.4337068283272574\n"
          ]
        }
      ],
      "source": [
        "def train_skipgram(model, data_loader, epochs, optimizer):\n",
        "    # TODO: Define the loss function\n",
        "    criterion = None\n",
        "    criterion = nn.CrossEntropyLoss()\n",
        "\n",
        "    model.train()\n",
        "    for epoch in range(epochs):\n",
        "        total_loss = 0\n",
        "        for data in data_loader:\n",
        "            center_word, context_word = data\n",
        "            center_word, context_word = center_word.to(device), context_word.to(device)\n",
        "\n",
        "            # TODO: Implement the training pass for the Skip-Gram model\n",
        "            optimizer.zero_grad()\n",
        "            output = model(center_word)\n",
        "            loss = criterion(output, context_word)\n",
        "            loss.backward()\n",
        "            optimizer.step()\n",
        "\n",
        "            total_loss += loss.item()\n",
        "\n",
        "        if (epoch + 1) % 5 == 0:\n",
        "            print(f'Epoch {epoch + 1}, Loss: {total_loss}')\n",
        "            evaluate(model, model.embeddings, 'basketball')\n",
        "\n",
        "train_skipgram(skipgram_model, dataloader, epochs=50, optimizer=optimizer)\n",
        "wordsim(skipgram_model.embeddings)"
      ]
    },
    {
      "cell_type": "markdown",
      "metadata": {
        "id": "PUvCWg-WYadO"
      },
      "source": [
        "#### Exercise 6: Model Implementation with Negative Sampling (10 points)\n",
        "\n",
        "Negative sampling is a technique to reduce the computation time in training by altering the objective to distinguish a target word from randomly sampled \"negative\" words instead of predicting the next word directly.\n",
        "\n",
        "In this exercise, you will modify the earlier Skip-Gram model to incorporate negative sampling.\n",
        "The new model should have two embedding layers: one for the target words and one for the context words.\n",
        "For negative sampling, we consider the simplest case where the number of negative samples is fixed to 10.\n",
        "For each target word, we will randomly sample 10 words from the vocabulary as negative samples.\n",
        "Then, implement the `forward` function to define how data will pass through your model. It involves taking input words, transforming them through the embedding layers, and then computing the loss as the following equation:\n",
        "$$\n",
        "\\mathcal{L} = -\\log\\sigma(\\mathbf{u}_t^\\top\\mathbf{v}_c) - \\sum_{i=1}^k\\log\\sigma(-\\mathbf{u}_t^\\top\\mathbf{v}_{n_i}),\n",
        "$$\n",
        "where $\\mathbf{u}_t$ is the embedding of the center word, $\\mathbf{v}_c$ is the embedding of the context word (positive sample), $\\mathbf{v}_{n_i}$ is the embedding of the $i$-th negative sample, and $\\sigma$ is the sigmoid function."
      ]
    },
    {
      "cell_type": "code",
      "execution_count": 12,
      "metadata": {
        "id": "DfHGBbLYYadO"
      },
      "outputs": [],
      "source": [
        "import torch.nn.functional as F\n",
        "\n",
        "class SkipGramNegSampling(nn.Module):\n",
        "    def __init__(self, vocab_size, embedding_dim):\n",
        "        super(SkipGramNegSampling, self).__init__()\n",
        "        # TODO: Define the Embedding layers for center words and context words\n",
        "        self.center_embeddings = nn.Embedding(vocab_size, embedding_dim)\n",
        "        self.context_embeddings = nn.Embedding(vocab_size, embedding_dim)\n",
        "\n",
        "    def forward(self, center_words, context_words, negative_words):\n",
        "        \"\"\"\n",
        "        Skip-Gram with Negative Sampling\n",
        "        :param center_words: the center words of shape [batch_size]\n",
        "        :param context_words: the context words of shape [batch_size]\n",
        "        :param negative_words: the negative words of shape [batch_size, num_negative_samples]\n",
        "        :return: the loss, a PyTorch scalar\n",
        "        \"\"\"\n",
        "        # TODO: Implement the forward pass for Skip-Gram with Negative Sampling\n",
        "        center_embeds = self.center_embeddings(center_words)\n",
        "        context_embeds = self.context_embeddings(context_words)\n",
        "        negative_embeds = self.context_embeddings(negative_words)\n",
        "        positive_score = torch.bmm(center_embeds.unsqueeze(1), context_embeds.unsqueeze(2))\n",
        "        negative_score = torch.sum(torch.bmm(negative_embeds, center_embeds.unsqueeze(2)), dim=1)\n",
        "\n",
        "        loss = -torch.mean(F.logsigmoid(positive_score) + F.logsigmoid(-negative_score))\n",
        "\n",
        "        return loss\n",
        "\n",
        "# Negative samples can be generated in various ways, here's a simple random approach\n",
        "def get_negative_samples(batch_size, vocab_size, num_negative_samples, word_frequencies):\n",
        "    return torch.randint(vocab_size, (batch_size, num_negative_samples))"
      ]
    },
    {
      "cell_type": "markdown",
      "metadata": {
        "id": "HztqLaYRYadO"
      },
      "source": [
        "Now, you should follow the same training procedure as before. However, you will need to modify the `train_with_neg_sampling` function to generate context-target pairs with negative samples. You will also need to modify the `train_with_neg_sampling` function to compute the loss using the new objective function."
      ]
    },
    {
      "cell_type": "code",
      "execution_count": 13,
      "metadata": {
        "id": "hKpkY-aBYadO"
      },
      "outputs": [],
      "source": [
        "def train_with_neg_sampling(model, data_loader, optimizer, epochs, vocab_size, num_negative_samples):\n",
        "    model.train()\n",
        "    for epoch in range(epochs):\n",
        "        total_loss = 0\n",
        "        for center, context in data_loader:\n",
        "            negative = get_negative_samples(center.size(0), vocab_size, num_negative_samples).to(device)\n",
        "            center, context = center.to(device), context.to(device)\n",
        "\n",
        "            # TODO: Implement the training pass for the Skip-Gram model with Negative Sampling\n",
        "            optimizer.zero_grad()\n",
        "            loss = model(center, context, negative)\n",
        "            loss.backward()\n",
        "            optimizer.step()\n",
        "            total_loss += loss.item()\n",
        "\n",
        "        if (epoch + 1) % 5 == 0:\n",
        "            print(f'Epoch {epoch + 1}, Loss: {total_loss}')\n",
        "            evaluate(model, model.center_embeddings, 'basketball')"
      ]
    },
    {
      "cell_type": "code",
      "execution_count": null,
      "metadata": {
        "colab": {
          "base_uri": "https://localhost:8080/"
        },
        "id": "uvCmaVn3YadO",
        "outputId": "e2527cc0-c379-4fca-be7c-63ca6919ee2a"
      },
      "outputs": [
        {
          "output_type": "stream",
          "name": "stdout",
          "text": [
            "Epoch 5, Loss: 328.75259283185005\n",
            "Model: SkipGramNegSampling(\n",
            "  (center_embeddings): Embedding(5748, 100)\n",
            "  (context_embeddings): Embedding(5748, 100)\n",
            ")\n",
            "Words similar to 'basketball':\n",
            "  1. analysis: 42.35%\n",
            "  2. distance: 41.51%\n",
            "  3. idea: 41.22%\n",
            "  4. mainstream: 39.77%\n",
            "  5. hughes: 39.72%\n",
            "Epoch 10, Loss: 225.07968573272228\n",
            "Model: SkipGramNegSampling(\n",
            "  (center_embeddings): Embedding(5748, 100)\n",
            "  (context_embeddings): Embedding(5748, 100)\n",
            ")\n",
            "Words similar to 'basketball':\n",
            "  1. hughes: 40.89%\n",
            "  2. brief: 40.40%\n",
            "  3. disrupted: 39.84%\n",
            "  4. distance: 39.62%\n",
            "  5. doomed: 39.15%\n",
            "Epoch 15, Loss: 186.68593195080757\n",
            "Model: SkipGramNegSampling(\n",
            "  (center_embeddings): Embedding(5748, 100)\n",
            "  (context_embeddings): Embedding(5748, 100)\n",
            ")\n",
            "Words similar to 'basketball':\n",
            "  1. brief: 41.73%\n",
            "  2. period: 41.42%\n",
            "  3. distance: 39.90%\n",
            "  4. historic: 39.58%\n",
            "  5. disrupted: 39.18%\n",
            "Epoch 20, Loss: 162.4382851794362\n",
            "Model: SkipGramNegSampling(\n",
            "  (center_embeddings): Embedding(5748, 100)\n",
            "  (context_embeddings): Embedding(5748, 100)\n",
            ")\n",
            "Words similar to 'basketball':\n",
            "  1. textile: 46.40%\n",
            "  2. university: 44.85%\n",
            "  3. listed: 42.19%\n",
            "  4. period: 40.50%\n",
            "  5. football: 39.37%\n",
            "Epoch 25, Loss: 148.4831492267549\n",
            "Model: SkipGramNegSampling(\n",
            "  (center_embeddings): Embedding(5748, 100)\n",
            "  (context_embeddings): Embedding(5748, 100)\n",
            ")\n",
            "Words similar to 'basketball':\n",
            "  1. textile: 45.72%\n",
            "  2. listed: 42.18%\n",
            "  3. nba: 41.44%\n",
            "  4. detained: 41.11%\n",
            "  5. premier: 40.43%\n",
            "Epoch 30, Loss: 142.5215533003211\n",
            "Model: SkipGramNegSampling(\n",
            "  (center_embeddings): Embedding(5748, 100)\n",
            "  (context_embeddings): Embedding(5748, 100)\n",
            ")\n",
            "Words similar to 'basketball':\n",
            "  1. university: 45.27%\n",
            "  2. detained: 42.84%\n",
            "  3. byu: 42.22%\n",
            "  4. textile: 41.97%\n",
            "  5. coordinator: 41.02%\n",
            "Epoch 35, Loss: 138.3558968268335\n",
            "Model: SkipGramNegSampling(\n",
            "  (center_embeddings): Embedding(5748, 100)\n",
            "  (context_embeddings): Embedding(5748, 100)\n",
            ")\n",
            "Words similar to 'basketball':\n",
            "  1. textile: 46.95%\n",
            "  2. byu: 46.93%\n",
            "  3. university: 43.78%\n",
            "  4. nba: 43.37%\n",
            "  5. listed: 42.03%\n",
            "Epoch 40, Loss: 132.04542583227158\n",
            "Model: SkipGramNegSampling(\n",
            "  (center_embeddings): Embedding(5748, 100)\n",
            "  (context_embeddings): Embedding(5748, 100)\n",
            ")\n",
            "Words similar to 'basketball':\n",
            "  1. nba: 45.59%\n",
            "  2. williams: 43.24%\n",
            "  3. premier: 42.11%\n",
            "  4. textile: 41.67%\n",
            "  5. ap: 41.63%\n",
            "Epoch 45, Loss: 130.6507548727095\n",
            "Model: SkipGramNegSampling(\n",
            "  (center_embeddings): Embedding(5748, 100)\n",
            "  (context_embeddings): Embedding(5748, 100)\n",
            ")\n",
            "Words similar to 'basketball':\n",
            "  1. nba: 44.67%\n",
            "  2. season: 42.81%\n",
            "  3. university: 42.33%\n",
            "  4. textile: 41.53%\n",
            "  5. colo.: 41.14%\n",
            "Epoch 50, Loss: 129.35890408605337\n",
            "Model: SkipGramNegSampling(\n",
            "  (center_embeddings): Embedding(5748, 100)\n",
            "  (context_embeddings): Embedding(5748, 100)\n",
            ")\n",
            "Words similar to 'basketball':\n",
            "  1. nba: 45.96%\n",
            "  2. premier: 43.39%\n",
            "  3. university: 43.19%\n",
            "  4. found: 42.89%\n",
            "  5. textile: 41.58%\n",
            "Spearman correlation: 0.183824291112504\n"
          ]
        }
      ],
      "source": [
        "neg_sampling_model = SkipGramNegSampling(vocab_size, embedding_dim).to(device)\n",
        "optimizer = optim.Adam(neg_sampling_model.parameters(), lr=learning_rate)\n",
        "train_with_neg_sampling(neg_sampling_model, dataloader, optimizer, epochs=50, vocab_size=vocab_size, num_negative_samples=10)\n",
        "wordsim(neg_sampling_model.center_embeddings)"
      ]
    },
    {
      "cell_type": "markdown",
      "metadata": {
        "id": "a7qjuCH3YadO"
      },
      "source": [
        "#### Exercise 7: Exploring Different Negative Distributions in Word2Vec (16 points + 10 bonus points)\n",
        "\n",
        "Negative sampling is a crucial technique in training word embeddings. It involves selecting \"negative\" samples (words not in the target context) to train the model more efficiently. The choice of distribution from which these negative samples are drawn can significantly affect the quality of the learned embeddings.\n",
        "\n",
        "Your task is to experiment with different negative sampling distributions and analyze their impact on the model's performance. Below are several distributions you should consider:\n",
        "- Frequency-based Distribution: Words are sampled according to their frequency in the corpus. Common approaches include sampling words with a probability proportional to their frequency or their frequency raised to 3/4th power (as used in Word2Vec).\n",
        "- Subsampling of Frequent Words: Modify the frequency-based distribution to reduce the representation of extremely frequent words. This can help in reducing the bias towards very common words in the corpus.\n",
        "- Custom Distribution based on Part-of-Speech Tags: Create a distribution where the probability of a word being sampled as negative depends on its [part-of-speech tag](https://www.nltk.org/book/ch05.html). For instance, you might choose to sample nouns or verbs more frequently.\n",
        "- Contextual Similarity-Based Distribution: Develop a distribution that takes into account the similarity of words to the target word. Words that are contextually similar to the target word could have a lower probability of being selected as negative samples.\n",
        "\n",
        "Please implement at least two of the above distributions and compare their performance with the uniform distribution. You can reuse the `train_with_neg_sampling` function to train the model with different negative sampling distributions. Then, please use the `wordsim` function to evaluate the model on the WordSim-353 dataset. Last, briefly summarize your findings and provide possible explanations for the observed results.\n",
        "\n",
        "For students interested in further exploration, consider the following optional directions (10 bonus points):\n",
        "- Combining Multiple Distributions: Explore the effects of using a hybrid approach, combining elements from different distributions.\n",
        "- Dynamic Sampling Strategies: Investigate sampling strategies that change during training, perhaps based on the convergence rate or other learning dynamics.\n",
        "- Corpus-Specific Distributions: Tailor the negative sampling distribution to the specific characteristics of the corpus you are using (e.g., technical vs. general language).\n",
        "- Investigating the Impact on Semantic vs. Syntactic Tasks: Analyze how different sampling distributions affect the model's performance on semantic versus syntactic tasks.\n",
        "\n",
        "You can also explore other negative sampling distributions that are not listed above. Please explain your findings and provide possible explanations for the observed results."
      ]
    },
    {
      "cell_type": "code",
      "source": [
        "def get_negative_samples_freq_based(batch_size, vocab_size, num_negative_samples, word_frequencies):\n",
        "    probabilities = torch.tensor([word_frequencies[i] for i in range(vocab_size)])**0.75\n",
        "    probabilities /= probabilities.sum()\n",
        "    negative_samples = torch.multinomial(probabilities, batch_size * num_negative_samples, replacement=True)\n",
        "    return negative_samples.view(batch_size, num_negative_samples)\n",
        "\n",
        "def get_negative_samples_subsampling(batch_size, vocab_size, num_negative_samples, word_frequencies):\n",
        "    # inspired by https://www.oreilly.com/library/view/python-natural-language/9781787121423/f7035ac3-7624-4b80-b464-64ed8a7f252a.xhtml\n",
        "    threshold = 1e-5\n",
        "    probabilities = 1 - torch.sqrt(threshold / torch.tensor(word_frequencies, dtype=torch.float32))\n",
        "    negative_samples = torch.multinomial(probabilities, batch_size * num_negative_samples, replacement=True)\n",
        "    return negative_samples.view(batch_size, num_negative_samples)"
      ],
      "metadata": {
        "id": "Oyd_v32xrf-D"
      },
      "execution_count": 14,
      "outputs": []
    },
    {
      "cell_type": "code",
      "source": [
        "word_frequencies = list(dataset.vocab.values())\n",
        "print(get_negative_samples_freq_based(10, vocab_size, 10, word_frequencies))\n",
        "print(get_negative_samples_subsampling(10, vocab_size, 10, word_frequencies))"
      ],
      "metadata": {
        "colab": {
          "base_uri": "https://localhost:8080/"
        },
        "id": "MWdp87K3BDL-",
        "outputId": "67b8bdb8-b125-4eed-a418-578590f429ad"
      },
      "execution_count": 15,
      "outputs": [
        {
          "output_type": "stream",
          "name": "stdout",
          "text": [
            "tensor([[2008,   24,   15, 1910, 1009,   64, 4293,  334,  706,   35],\n",
            "        [4649, 2334,   37,  100, 4941,  241,  272, 1928,  506, 2821],\n",
            "        [  37, 4402, 1572, 1976, 1184, 2091,  975, 3405, 1131,   24],\n",
            "        [2679,  115, 4274,  256, 2077,   90, 4962,   82, 2743, 1660],\n",
            "        [  19, 3062, 1715,  653,  643,  432,  227, 4183,  168,    4],\n",
            "        [1092, 5620, 2124,   45, 1376, 4667,   20, 3973,   45, 1849],\n",
            "        [  90,  862, 1428,  283, 1526, 1017, 2304,   82, 1222, 4936],\n",
            "        [4642,  115, 1172,  100, 1573,  221, 5401, 2427,   35,  115],\n",
            "        [ 636,   43, 2738,  775, 5670,   62, 5101,   20, 1473,   20],\n",
            "        [1527, 1135,  199,  236,  295,   69,   40, 2077, 1855,   57]])\n",
            "tensor([[4236, 1648, 4526, 5412, 3934, 3825,  321, 1826,  851,  807],\n",
            "        [4735, 3563, 2281,  663, 3002,  735, 4123, 5186, 2487, 2224],\n",
            "        [ 714, 5062, 2013, 5448, 5726,  676, 1963, 4214, 4678, 4073],\n",
            "        [4416, 1564, 2135, 3351, 3217, 1491, 4222, 2323, 4379,  513],\n",
            "        [1741, 2502, 5541, 1550, 1413, 5473, 2756, 4878, 1524, 4877],\n",
            "        [ 486, 2189, 4115, 2973, 4649, 5616,  594, 2380, 4766, 4189],\n",
            "        [5183, 4568, 4667, 1758, 5736, 5171,  666, 4747,  505, 4171],\n",
            "        [1250,  297, 5233, 4399,    8,  207,  165, 2885, 2271, 4231],\n",
            "        [2205, 5595, 3245, 4874,  105, 1871, 4242, 5087, 1057, 3588],\n",
            "        [1627, 1146, 1470, 5004, 1251, 4293, 5437, 4544, 5494, 2922]])\n"
          ]
        }
      ]
    },
    {
      "cell_type": "code",
      "source": [
        "def train_with_neg_sampling(model, data_loader, optimizer, epochs, vocab_size, num_negative_samples, negative_sampling_fn, word_frequencies):\n",
        "    model.train()\n",
        "    for epoch in range(epochs):\n",
        "        total_loss = 0\n",
        "        for center, context in data_loader:\n",
        "            negative = negative_sampling_fn(center.size(0), vocab_size, num_negative_samples, word_frequencies).to(device)\n",
        "            center, context, negative = center.to(device), context.to(device), negative.to(device)\n",
        "\n",
        "            # TODO: Implement the training pass for the Skip-Gram model with Negative Sampling\n",
        "            optimizer.zero_grad()\n",
        "            loss = model(center, context, negative)\n",
        "            loss.backward()\n",
        "            optimizer.step()\n",
        "            total_loss += loss.item()\n",
        "\n",
        "        if (epoch + 1) % 5 == 0:\n",
        "            print(f'Epoch {epoch + 1}, Loss: {total_loss}')\n",
        "            evaluate(model, model.center_embeddings, 'basketball')"
      ],
      "metadata": {
        "id": "xXvzBvLFr7vT"
      },
      "execution_count": 45,
      "outputs": []
    },
    {
      "cell_type": "code",
      "source": [
        "neg_sampling_model = SkipGramNegSampling(vocab_size, embedding_dim).to(device)\n",
        "optimizer = optim.Adam(neg_sampling_model.parameters(), lr=learning_rate)\n",
        "word_frequencies = list(dataset.vocab.values())\n",
        "train_with_neg_sampling(neg_sampling_model, dataloader, optimizer, epochs=50, vocab_size=vocab_size, num_negative_samples=10, negative_sampling_fn=get_negative_samples_freq_based, word_frequencies=word_frequencies)\n",
        "wordsim(neg_sampling_model.center_embeddings)"
      ],
      "metadata": {
        "colab": {
          "base_uri": "https://localhost:8080/"
        },
        "id": "8kk4j-gUsK8t",
        "outputId": "8375c92a-d93d-429b-e636-a37b9e01319d"
      },
      "execution_count": null,
      "outputs": [
        {
          "output_type": "stream",
          "name": "stdout",
          "text": [
            "Epoch 5, Loss: 652.7119839787483\n",
            "Model: SkipGramNegSampling(\n",
            "  (center_embeddings): Embedding(5748, 100)\n",
            "  (context_embeddings): Embedding(5748, 100)\n",
            ")\n",
            "Words similar to 'basketball':\n",
            "  1. owen: 43.98%\n",
            "  2. federer: 40.77%\n",
            "  3. sweep: 40.72%\n",
            "  4. lecce: 39.27%\n",
            "  5. racing: 37.72%\n",
            "Epoch 10, Loss: 495.86651092767715\n",
            "Model: SkipGramNegSampling(\n",
            "  (center_embeddings): Embedding(5748, 100)\n",
            "  (context_embeddings): Embedding(5748, 100)\n",
            ")\n",
            "Words similar to 'basketball':\n",
            "  1. sweep: 46.42%\n",
            "  2. lone: 42.15%\n",
            "  3. owen: 42.02%\n",
            "  4. marathon: 41.26%\n",
            "  5. augusto: 40.94%\n",
            "Epoch 15, Loss: 443.1899371147156\n",
            "Model: SkipGramNegSampling(\n",
            "  (center_embeddings): Embedding(5748, 100)\n",
            "  (context_embeddings): Embedding(5748, 100)\n",
            ")\n",
            "Words similar to 'basketball':\n",
            "  1. college: 48.39%\n",
            "  2. sweep: 43.71%\n",
            "  3. boxing: 42.18%\n",
            "  4. titan: 42.16%\n",
            "  5. augusto: 40.87%\n",
            "Epoch 20, Loss: 415.2334240972996\n",
            "Model: SkipGramNegSampling(\n",
            "  (center_embeddings): Embedding(5748, 100)\n",
            "  (context_embeddings): Embedding(5748, 100)\n",
            ")\n",
            "Words similar to 'basketball':\n",
            "  1. college: 47.72%\n",
            "  2. champion: 46.35%\n",
            "  3. titan: 44.74%\n",
            "  4. football: 43.24%\n",
            "  5. boxing: 42.81%\n",
            "Epoch 25, Loss: 395.7662358880043\n",
            "Model: SkipGramNegSampling(\n",
            "  (center_embeddings): Embedding(5748, 100)\n",
            "  (context_embeddings): Embedding(5748, 100)\n",
            ")\n",
            "Words similar to 'basketball':\n",
            "  1. marathon: 48.25%\n",
            "  2. football: 45.57%\n",
            "  3. university: 45.51%\n",
            "  4. boxing: 45.33%\n",
            "  5. three-run: 45.15%\n",
            "Epoch 30, Loss: 384.5332333445549\n",
            "Model: SkipGramNegSampling(\n",
            "  (center_embeddings): Embedding(5748, 100)\n",
            "  (context_embeddings): Embedding(5748, 100)\n",
            ")\n",
            "Words similar to 'basketball':\n",
            "  1. football: 44.70%\n",
            "  2. college: 44.37%\n",
            "  3. university: 41.36%\n",
            "  4. capped: 40.12%\n",
            "  5. titan: 39.90%\n",
            "Epoch 35, Loss: 373.42198529839516\n",
            "Model: SkipGramNegSampling(\n",
            "  (center_embeddings): Embedding(5748, 100)\n",
            "  (context_embeddings): Embedding(5748, 100)\n",
            ")\n",
            "Words similar to 'basketball':\n",
            "  1. football: 47.26%\n",
            "  2. medal: 46.77%\n",
            "  3. eighth: 45.02%\n",
            "  4. college: 43.32%\n",
            "  5. rock: 41.71%\n",
            "Epoch 40, Loss: 368.17287124693394\n",
            "Model: SkipGramNegSampling(\n",
            "  (center_embeddings): Embedding(5748, 100)\n",
            "  (context_embeddings): Embedding(5748, 100)\n",
            ")\n",
            "Words similar to 'basketball':\n",
            "  1. football: 49.32%\n",
            "  2. college: 49.32%\n",
            "  3. busy: 44.59%\n",
            "  4. boxing: 44.51%\n",
            "  5. eighth: 43.80%\n",
            "Epoch 45, Loss: 360.12861239910126\n",
            "Model: SkipGramNegSampling(\n",
            "  (center_embeddings): Embedding(5748, 100)\n",
            "  (context_embeddings): Embedding(5748, 100)\n",
            ")\n",
            "Words similar to 'basketball':\n",
            "  1. football: 52.77%\n",
            "  2. college: 49.92%\n",
            "  3. champion: 43.62%\n",
            "  4. boxing: 43.59%\n",
            "  5. eighth: 42.83%\n",
            "Epoch 50, Loss: 358.0901825129986\n",
            "Model: SkipGramNegSampling(\n",
            "  (center_embeddings): Embedding(5748, 100)\n",
            "  (context_embeddings): Embedding(5748, 100)\n",
            ")\n",
            "Words similar to 'basketball':\n",
            "  1. football: 50.53%\n",
            "  2. college: 49.25%\n",
            "  3. boxing: 44.16%\n",
            "  4. top-ranked: 43.15%\n",
            "  5. champion: 43.03%\n",
            "Spearman correlation: 0.3379681623066134\n"
          ]
        }
      ]
    },
    {
      "cell_type": "code",
      "source": [
        "neg_sampling_model = SkipGramNegSampling(vocab_size, embedding_dim).to(device)\n",
        "optimizer = optim.Adam(neg_sampling_model.parameters(), lr=learning_rate)\n",
        "word_frequencies = list(dataset.vocab.values())\n",
        "train_with_neg_sampling(neg_sampling_model, dataloader, optimizer, epochs=50, vocab_size=vocab_size, num_negative_samples=10, negative_sampling_fn=get_negative_samples_subsampling, word_frequencies=word_frequencies)\n",
        "wordsim(neg_sampling_model.center_embeddings)"
      ],
      "metadata": {
        "colab": {
          "base_uri": "https://localhost:8080/"
        },
        "id": "x8Nc9YtUsMA4",
        "outputId": "05fddf2d-7804-4a58-c706-2cfa1ac13508"
      },
      "execution_count": null,
      "outputs": [
        {
          "output_type": "stream",
          "name": "stdout",
          "text": [
            "Epoch 5, Loss: 331.41734796762466\n",
            "Model: SkipGramNegSampling(\n",
            "  (center_embeddings): Embedding(5748, 100)\n",
            "  (context_embeddings): Embedding(5748, 100)\n",
            ")\n",
            "Words similar to 'basketball':\n",
            "  1. loan: 42.03%\n",
            "  2. foot: 41.16%\n",
            "  3. towns: 41.01%\n",
            "  4. grade: 40.44%\n",
            "  5. august: 39.39%\n",
            "Epoch 10, Loss: 225.90842886269093\n",
            "Model: SkipGramNegSampling(\n",
            "  (center_embeddings): Embedding(5748, 100)\n",
            "  (context_embeddings): Embedding(5748, 100)\n",
            ")\n",
            "Words similar to 'basketball':\n",
            "  1. foot: 46.47%\n",
            "  2. player: 43.08%\n",
            "  3. preview: 42.26%\n",
            "  4. relief: 40.43%\n",
            "  5. laying: 39.80%\n",
            "Epoch 15, Loss: 188.03501217067242\n",
            "Model: SkipGramNegSampling(\n",
            "  (center_embeddings): Embedding(5748, 100)\n",
            "  (context_embeddings): Embedding(5748, 100)\n",
            ")\n",
            "Words similar to 'basketball':\n",
            "  1. preview: 45.96%\n",
            "  2. foot: 43.58%\n",
            "  3. resignation: 39.92%\n",
            "  4. beheaded: 38.31%\n",
            "  5. pleads: 38.14%\n",
            "Epoch 20, Loss: 164.139394082129\n",
            "Model: SkipGramNegSampling(\n",
            "  (center_embeddings): Embedding(5748, 100)\n",
            "  (context_embeddings): Embedding(5748, 100)\n",
            ")\n",
            "Words similar to 'basketball':\n",
            "  1. foot: 45.12%\n",
            "  2. preview: 42.39%\n",
            "  3. resignation: 39.27%\n",
            "  4. 7-6: 39.14%\n",
            "  5. mount: 38.58%\n",
            "Epoch 25, Loss: 149.118945941329\n",
            "Model: SkipGramNegSampling(\n",
            "  (center_embeddings): Embedding(5748, 100)\n",
            "  (context_embeddings): Embedding(5748, 100)\n",
            ")\n",
            "Words similar to 'basketball':\n",
            "  1. beheaded: 44.30%\n",
            "  2. foot: 43.49%\n",
            "  3. mount: 42.88%\n",
            "  4. preview: 42.18%\n",
            "  5. lifts: 41.19%\n",
            "Epoch 30, Loss: 144.4255783483386\n",
            "Model: SkipGramNegSampling(\n",
            "  (center_embeddings): Embedding(5748, 100)\n",
            "  (context_embeddings): Embedding(5748, 100)\n",
            ")\n",
            "Words similar to 'basketball':\n",
            "  1. mount: 42.82%\n",
            "  2. foot: 41.61%\n",
            "  3. beheaded: 40.82%\n",
            "  4. 4-0: 39.33%\n",
            "  5. chris: 39.16%\n",
            "Epoch 35, Loss: 137.1153461150825\n",
            "Model: SkipGramNegSampling(\n",
            "  (center_embeddings): Embedding(5748, 100)\n",
            "  (context_embeddings): Embedding(5748, 100)\n",
            ")\n",
            "Words similar to 'basketball':\n",
            "  1. 4-0: 45.27%\n",
            "  2. mount: 43.96%\n",
            "  3. beheaded: 43.79%\n",
            "  4. devil: 43.21%\n",
            "  5. robinson: 40.35%\n",
            "Epoch 40, Loss: 135.09647203609347\n",
            "Model: SkipGramNegSampling(\n",
            "  (center_embeddings): Embedding(5748, 100)\n",
            "  (context_embeddings): Embedding(5748, 100)\n",
            ")\n",
            "Words similar to 'basketball':\n",
            "  1. beheaded: 46.65%\n",
            "  2. 4-0: 43.05%\n",
            "  3. foot: 42.76%\n",
            "  4. robinson: 41.57%\n",
            "  5. devil: 41.48%\n",
            "Epoch 45, Loss: 131.2508650869131\n",
            "Model: SkipGramNegSampling(\n",
            "  (center_embeddings): Embedding(5748, 100)\n",
            "  (context_embeddings): Embedding(5748, 100)\n",
            ")\n",
            "Words similar to 'basketball':\n",
            "  1. beheaded: 47.68%\n",
            "  2. foot: 46.05%\n",
            "  3. 4-0: 43.54%\n",
            "  4. devil: 41.97%\n",
            "  5. lawyer: 41.65%\n",
            "Epoch 50, Loss: 127.97890417277813\n",
            "Model: SkipGramNegSampling(\n",
            "  (center_embeddings): Embedding(5748, 100)\n",
            "  (context_embeddings): Embedding(5748, 100)\n",
            ")\n",
            "Words similar to 'basketball':\n",
            "  1. beheaded: 47.79%\n",
            "  2. foot: 44.90%\n",
            "  3. what: 44.43%\n",
            "  4. mount: 42.67%\n",
            "  5. 4-0: 41.38%\n",
            "Spearman correlation: 0.23085744379241777\n"
          ]
        }
      ]
    },
    {
      "cell_type": "code",
      "source": [
        "def get_negative_samples_hybrid(batch_size, vocab_size, num_negative_samples, word_frequencies, weight_freq=0.5, weight_subsampling=0.5):\n",
        "    freq_probabilities = torch.tensor([word_frequencies[i] for i in range(vocab_size)])**0.75\n",
        "    freq_probabilities /= freq_probabilities.sum()\n",
        "    probabilities = torch.tensor([word_frequencies[i] for i in range(vocab_size)])**0.75\n",
        "    probabilities /= probabilities.sum()\n",
        "\n",
        "    threshold = 1e-5\n",
        "    subsampling_probabilities = 1 - torch.sqrt(threshold / torch.tensor(word_frequencies, dtype=torch.float32))\n",
        "\n",
        "    combined_probabilities = weight_freq * freq_probabilities + weight_subsampling * subsampling_probabilities\n",
        "    combined_probabilities /= combined_probabilities.sum()\n",
        "\n",
        "    negative_samples = torch.multinomial(combined_probabilities, batch_size * num_negative_samples, replacement=True)\n",
        "    return negative_samples.view(batch_size, num_negative_samples)\n",
        "\n",
        "neg_sampling_model = SkipGramNegSampling(vocab_size, embedding_dim).to(device)\n",
        "learning_rate = 0.01\n",
        "optimizer = optim.Adam(neg_sampling_model.parameters(), lr=learning_rate)\n",
        "word_frequencies = list(dataset.vocab.values())\n",
        "train_with_neg_sampling(neg_sampling_model, dataloader, optimizer, epochs=50, vocab_size=vocab_size, num_negative_samples=10, negative_sampling_fn=get_negative_samples_hybrid, word_frequencies=word_frequencies)\n",
        "wordsim(neg_sampling_model.center_embeddings)"
      ],
      "metadata": {
        "colab": {
          "base_uri": "https://localhost:8080/"
        },
        "id": "Ievn_7icLKfu",
        "outputId": "1af526a0-f54d-488b-8f03-24fb3ccb1360"
      },
      "execution_count": 46,
      "outputs": [
        {
          "output_type": "stream",
          "name": "stdout",
          "text": [
            "Epoch 5, Loss: 330.59254716336727\n",
            "Model: SkipGramNegSampling(\n",
            "  (center_embeddings): Embedding(5748, 100)\n",
            "  (context_embeddings): Embedding(5748, 100)\n",
            ")\n",
            "Words similar to 'basketball':\n",
            "  1. stands: 44.55%\n",
            "  2. release: 40.10%\n",
            "  3. fame: 40.05%\n",
            "  4. execs: 39.81%\n",
            "  5. else: 38.55%\n",
            "Epoch 10, Loss: 225.30099014937878\n",
            "Model: SkipGramNegSampling(\n",
            "  (center_embeddings): Embedding(5748, 100)\n",
            "  (context_embeddings): Embedding(5748, 100)\n",
            ")\n",
            "Words similar to 'basketball':\n",
            "  1. stands: 42.82%\n",
            "  2. repeat: 42.66%\n",
            "  3. novak: 42.03%\n",
            "  4. radical: 41.98%\n",
            "  5. confusion: 40.69%\n",
            "Epoch 15, Loss: 187.9078451693058\n",
            "Model: SkipGramNegSampling(\n",
            "  (center_embeddings): Embedding(5748, 100)\n",
            "  (context_embeddings): Embedding(5748, 100)\n",
            ")\n",
            "Words similar to 'basketball':\n",
            "  1. football: 44.68%\n",
            "  2. han: 39.86%\n",
            "  3. team: 39.33%\n",
            "  4. mbeki: 39.25%\n",
            "  5. pierce: 39.20%\n",
            "Epoch 20, Loss: 165.73238145560026\n",
            "Model: SkipGramNegSampling(\n",
            "  (center_embeddings): Embedding(5748, 100)\n",
            "  (context_embeddings): Embedding(5748, 100)\n",
            ")\n",
            "Words similar to 'basketball':\n",
            "  1. football: 45.30%\n",
            "  2. team: 44.54%\n",
            "  3. nascar: 42.79%\n",
            "  4. lake: 40.37%\n",
            "  5. top-ranked: 40.10%\n",
            "Epoch 25, Loss: 150.11545791476965\n",
            "Model: SkipGramNegSampling(\n",
            "  (center_embeddings): Embedding(5748, 100)\n",
            "  (context_embeddings): Embedding(5748, 100)\n",
            ")\n",
            "Words similar to 'basketball':\n",
            "  1. football: 46.32%\n",
            "  2. nascar: 41.72%\n",
            "  3. top-ranked: 40.65%\n",
            "  4. team: 40.42%\n",
            "  5. pierce: 39.82%\n",
            "Epoch 30, Loss: 141.78440376371145\n",
            "Model: SkipGramNegSampling(\n",
            "  (center_embeddings): Embedding(5748, 100)\n",
            "  (context_embeddings): Embedding(5748, 100)\n",
            ")\n",
            "Words similar to 'basketball':\n",
            "  1. nascar: 46.36%\n",
            "  2. football: 45.90%\n",
            "  3. left: 42.19%\n",
            "  4. top-ranked: 40.75%\n",
            "  5. 13: 40.13%\n",
            "Epoch 35, Loss: 138.02647986263037\n",
            "Model: SkipGramNegSampling(\n",
            "  (center_embeddings): Embedding(5748, 100)\n",
            "  (context_embeddings): Embedding(5748, 100)\n",
            ")\n",
            "Words similar to 'basketball':\n",
            "  1. fame: 45.24%\n",
            "  2. football: 43.72%\n",
            "  3. top-ranked: 43.34%\n",
            "  4. heat: 41.38%\n",
            "  5. national: 40.23%\n",
            "Epoch 40, Loss: 134.7703246921301\n",
            "Model: SkipGramNegSampling(\n",
            "  (center_embeddings): Embedding(5748, 100)\n",
            "  (context_embeddings): Embedding(5748, 100)\n",
            ")\n",
            "Words similar to 'basketball':\n",
            "  1. top-ranked: 43.57%\n",
            "  2. paul: 42.29%\n",
            "  3. fame: 41.38%\n",
            "  4. football: 41.37%\n",
            "  5. left: 40.06%\n",
            "Epoch 45, Loss: 130.40386222302914\n",
            "Model: SkipGramNegSampling(\n",
            "  (center_embeddings): Embedding(5748, 100)\n",
            "  (context_embeddings): Embedding(5748, 100)\n",
            ")\n",
            "Words similar to 'basketball':\n",
            "  1. top-ranked: 43.71%\n",
            "  2. national: 42.47%\n",
            "  3. computerworld: 41.16%\n",
            "  4. football: 39.84%\n",
            "  5. heat: 38.99%\n",
            "Epoch 50, Loss: 130.82626067847013\n",
            "Model: SkipGramNegSampling(\n",
            "  (center_embeddings): Embedding(5748, 100)\n",
            "  (context_embeddings): Embedding(5748, 100)\n",
            ")\n",
            "Words similar to 'basketball':\n",
            "  1. top-ranked: 43.36%\n",
            "  2. computerworld: 39.90%\n",
            "  3. cross: 39.64%\n",
            "  4. 13: 38.95%\n",
            "  5. paul: 38.77%\n",
            "Spearman correlation: 0.30176553581103477\n"
          ]
        }
      ]
    },
    {
      "cell_type": "markdown",
      "metadata": {
        "id": "NykqiWeAYadO"
      },
      "source": [
        "**[TODO: Write your answer here]**\n",
        "\n",
        "The frequency-based sampling procedure for negative sampling yielded promising results for the top 5 most similar words: most were sports (\"football\") or sports-adjacent terms (\"champion\"). Conversely, the subsampling procedure failed to have as good results: none of the output words were directly related to basketball. We can probably attribute this to the sampling methods: it's possible that stifling the representation of frequently-occurring words in the sampled distribution (as well as overrepresenting rare words) could have harmed the model's training. The hybrid distribution training yielded promising results, however, with all top 5 words being related to basketball or sports in some way."
      ]
    },
    {
      "cell_type": "markdown",
      "metadata": {
        "id": "FwB0mkPDYadO"
      },
      "source": [
        "### Section 2: GloVe Embeddings (10 points + 10 bonus points)\n",
        "\n",
        "The second section of this exercise is to leverage pretrained GloVe embeddings to solve the word analogy task."
      ]
    },
    {
      "cell_type": "markdown",
      "metadata": {
        "id": "oa3fAcwvYadP"
      },
      "source": [
        "#### Exercise 8: Word Analogy Task (10 points)\n",
        "\n",
        "In the word analogy task, we are given three words 'a', 'b', and 'c', and we need to find a word 'd' such that the relationship between 'a' and 'b' is similar to that between 'c' and 'd'. For example, in the analogy \"man is to king as woman is to queen\", the relationship between \"man\" and \"king\" is similar to that between \"woman\" and \"queen\".\n",
        "\n",
        "To solve this, you will use pretrained GloVe embeddings. The general idea is to find the vector representing the relationship between 'a' and 'b', and then search for a word whose relationship with 'c' is most similar to this vector. This similarity is typically measured using cosine similarity.\n",
        "Please implement the `word_analogy` function to find the word 'd' that best completes the analogy."
      ]
    },
    {
      "cell_type": "code",
      "execution_count": 28,
      "metadata": {
        "id": "-v2lEvjOYadP"
      },
      "outputs": [],
      "source": [
        "from torchtext.vocab import GloVe\n",
        "import numpy as np\n",
        "\n",
        "# Load Pretrained GloVe Embeddings\n",
        "glove = GloVe(name='6B', dim=100)  # 100-dimensional vectors\n",
        "\n",
        "def word_analogy(a, b, c, embeddings):\n",
        "    \"\"\"\n",
        "    Given words 'a', 'b', 'c', find 'd' such that 'a' is to 'b' as 'c' is to 'd'.\n",
        "    Use cosine similarity to find the closest word.\n",
        "\n",
        "    :param a, b, c: Words in the analogy a:b :: c:d\n",
        "    :param embeddings: Pretrained GloVe embeddings\n",
        "    :return: The word 'd'\n",
        "    \"\"\"\n",
        "\n",
        "    # Get vectors for the input words\n",
        "    vec_a = embeddings[a]\n",
        "    vec_b = embeddings[b]\n",
        "    vec_c = embeddings[c]\n",
        "\n",
        "    # TODO: Compute the vector for 'd' (vec_a to vec_b is as vec_c to vec_d)\n",
        "    vec_d = vec_b - vec_a + vec_c\n",
        "\n",
        "    # TODO: Search for the word that is closest to vec_d\n",
        "    # Hint: Iterate over the embeddings and use cosine_similarity\n",
        "    d = None\n",
        "    max_similarity = -1\n",
        "\n",
        "    for word in embeddings.stoi:\n",
        "        if word not in [a, b, c]:\n",
        "            vec_word = embeddings[word]\n",
        "            similarity = cosine_similarity(vec_d.unsqueeze(0), vec_word.unsqueeze(0))\n",
        "            if similarity > max_similarity:\n",
        "                max_similarity = similarity\n",
        "                d = word\n",
        "\n",
        "    return d"
      ]
    },
    {
      "cell_type": "markdown",
      "metadata": {
        "id": "iS9PsYwbYadP"
      },
      "source": [
        "Below are examples to test the word analogy function:\n",
        "- Geographical Analogies: \"France is to Paris as Italy is to ?\"\n",
        "- Grammatical Analogies: \"happy is to happiest as cold is to ?\"\n",
        "- Semantic Analogies: \"cat is to kitten as dog is to ?\"\n",
        "- Syntactic Analogies: \"quick is to quickly as slow is to ?\""
      ]
    },
    {
      "cell_type": "code",
      "execution_count": 29,
      "metadata": {
        "id": "gCTWbLDcYadP",
        "colab": {
          "base_uri": "https://localhost:8080/"
        },
        "outputId": "f799f307-216a-43f8-83de-f08a4a2b2c4f"
      },
      "outputs": [
        {
          "output_type": "stream",
          "name": "stdout",
          "text": [
            "france is to paris as italy is to rome\n",
            "happy is to happiest as cold is to frigid\n",
            "cat is to kitten as dog is to puppy\n",
            "quick is to quickly as slow is to rapidly\n"
          ]
        }
      ],
      "source": [
        "test_cases = [['france', 'paris', 'italy'], ['happy', 'happiest', 'cold'], ['cat', 'kitten', 'dog'], ['quick', 'quickly', 'slow']]\n",
        "\n",
        "for a, b, c in test_cases:\n",
        "    d = word_analogy(a, b, c, glove)\n",
        "    print(f'{a} is to {b} as {c} is to {d}')"
      ]
    },
    {
      "cell_type": "markdown",
      "metadata": {
        "id": "QcOz1DtDYadV"
      },
      "source": [
        "### Section 3: Debiasing Word Vectors (10 bonus points)\n",
        "\n",
        "Bias in word vectors is a significant issue in natural language processing, leading to stereotypical or prejudiced results in various applications. The paper [*Man is to Computer Programmer as Woman is to Homemaker? Debiasing Word Embeddings*](https://arxiv.org/abs/1607.06520) presents methods for reducing gender bias in word embeddings. This exercise focuses on implementing two key algorithms from this paper: Neutralization and Equalization.\n",
        "- Neutralization: Remove gender bias from non-gender specific words.\n",
        "- Equalization: Adjust vectors for gender-specific words to ensure equal gender representation.\n",
        "\n",
        "To show how GloVe word embeddings relate to gender, let's examine the relationship between occupation-related words in GloVe embeddings and a constructed \"gender\" vector.\n",
        "The \"gender\" vector is defined as the difference between the GloVe embeddings of several gender-related word pairs, such as \"man - woman\", \"king - queen\", \"mother - father\", \"girl - boy\", etc."
      ]
    },
    {
      "cell_type": "code",
      "execution_count": 31,
      "metadata": {
        "id": "qWLIuk_AYadV"
      },
      "outputs": [],
      "source": [
        "def construct_gender_vector(embeddings, gender_pairs):\n",
        "    \"\"\"\n",
        "    Construct a gender vector based on differences of word pairs.\n",
        "\n",
        "    :param embeddings: GloVe word embeddings.\n",
        "    :param gender_pairs: List of tuples containing gender-specific word pairs.\n",
        "    :return: Constructed gender vector.\n",
        "    \"\"\"\n",
        "    gender_vector = []\n",
        "    for word_a, word_b in gender_pairs:\n",
        "        gender_vector.append(embeddings[word_a] - embeddings[word_b])\n",
        "    return torch.concat([x.unsqueeze(dim=0) for x in gender_vector],axis=0).mean(axis=0)\n",
        "\n",
        "gender_pairs = [('girl', 'boy')]\n",
        "gender_vector = construct_gender_vector(glove, gender_pairs)"
      ]
    },
    {
      "cell_type": "markdown",
      "metadata": {
        "id": "VR3qC2vHYadV"
      },
      "source": [
        "Then, we can calculate the cosine similarity between the gender vector and the GloVe embeddings of some common occupation-related words.\n",
        "It can be observed that these similarities indeed reflect certain unhealthy gender stereotypes and biases."
      ]
    },
    {
      "cell_type": "code",
      "execution_count": 33,
      "metadata": {
        "id": "rz-S_SQ6YadV",
        "colab": {
          "base_uri": "https://localhost:8080/"
        },
        "outputId": "6bd8d0ce-1d3a-4709-e2e3-b039bed2502b"
      },
      "outputs": [
        {
          "output_type": "stream",
          "name": "stdout",
          "text": [
            "Similarity of 'nurse' with gender vector: tensor([0.1591])\n",
            "Similarity of 'engineer' with gender vector: tensor([-0.1748])\n",
            "Similarity of 'teacher' with gender vector: tensor([0.0444])\n",
            "Similarity of 'scientist' with gender vector: tensor([-0.1127])\n",
            "Similarity of 'receptionist' with gender vector: tensor([0.2157])\n",
            "Similarity of 'programmer' with gender vector: tensor([-0.1941])\n",
            "Similarity of 'actor' with gender vector: tensor([0.0319])\n",
            "Similarity of 'doctor' with gender vector: tensor([-0.0178])\n"
          ]
        }
      ],
      "source": [
        "def similarity_with_gender(word, embeddings, gender_vector):\n",
        "    \"\"\"\n",
        "    Calculate cosine similarity between a word and the gender vector.\n",
        "\n",
        "    :param word: Target word.\n",
        "    :param embeddings: GloVe word embeddings.\n",
        "    :param gender_vector: Constructed gender vector.\n",
        "    :return: Cosine similarity.\n",
        "    \"\"\"\n",
        "    word_vector = embeddings[word]\n",
        "    similarity = cosine_similarity(word_vector.unsqueeze(0), gender_vector.unsqueeze(0))\n",
        "    return similarity\n",
        "\n",
        "occupation_words = ['nurse', 'engineer', 'teacher', 'scientist', 'receptionist', 'programmer', 'actor', 'doctor']\n",
        "for word in occupation_words:\n",
        "    similarity = similarity_with_gender(word, glove, gender_vector)\n",
        "    print(f\"Similarity of '{word}' with gender vector: {similarity}\")"
      ]
    },
    {
      "cell_type": "markdown",
      "metadata": {
        "id": "0uAClczdYadV"
      },
      "source": [
        "#### Exercise 9: Neutralization (5 bonus points)\n",
        "\n",
        "For a word vector $\\mathbf{w}$ and a gender direction $\\mathbf{g}$, the neutralization is performed by removing the projection of $\\mathbf{w}$ on $\\mathbf{g} $. The equation for neutralization is:\n",
        "$$\n",
        "\\mathbf{w}_{\\text{neutralized}} = \\mathbf{w} - \\frac{\\mathbf{w} \\cdot \\mathbf{g}}{\\|\\mathbf{g}\\|^2} \\mathbf{g}.\n",
        "$$\n",
        "\n",
        "You task is to implement the Neutralization algorithm to remove gender bias from non-gender specific words."
      ]
    },
    {
      "cell_type": "code",
      "execution_count": 36,
      "metadata": {
        "id": "RGa8ao6DYadV",
        "colab": {
          "base_uri": "https://localhost:8080/"
        },
        "outputId": "c303eb93-12e0-41a2-dc9c-06801ff3a6eb"
      },
      "outputs": [
        {
          "output_type": "stream",
          "name": "stdout",
          "text": [
            "Before neutralization, the similarity of \"receptionist\" with gender vector: tensor([0.2157])\n",
            "After neutralization, the similarity of \"receptionist\" with gender vector: tensor([3.3528e-08])\n"
          ]
        }
      ],
      "source": [
        "def neutralize(word_vector, gender_direction):\n",
        "    \"\"\"\n",
        "    Neutralize bias in the word vector by removing the projection on the gender direction.\n",
        "\n",
        "    :param word_vector: Vector representation of the word.\n",
        "    :param gender_direction: The gender direction vector.\n",
        "    :return: Debiased word vector.\n",
        "    \"\"\"\n",
        "    # TODO: Implement this function to neutralize the word vector\n",
        "    return word_vector - (torch.dot(word_vector, gender_direction) / torch.norm(gender_direction)**2) * gender_direction\n",
        "\n",
        "word_vector = glove['receptionist']\n",
        "print('Before neutralization, the similarity of \"receptionist\" with gender vector:', cosine_similarity(word_vector.unsqueeze(0), gender_vector.unsqueeze(0)))\n",
        "neutralized_vector = neutralize(word_vector, gender_vector)\n",
        "print('After neutralization, the similarity of \"receptionist\" with gender vector:', cosine_similarity(neutralized_vector.unsqueeze(0), gender_vector.unsqueeze(0)))"
      ]
    },
    {
      "cell_type": "markdown",
      "metadata": {
        "id": "0Sh3eX7EYadW"
      },
      "source": [
        "#### Exercise 10: Equalization (5 bonus points)\n",
        "\n",
        "The Equalization algorithm is designed to adjust pairs of gender-specific words so that they are equidistant to the gender-neutral words.\n",
        "The procedure involves several steps, including computing the mean of the pair, projecting onto the gender direction, and normalizing the difference.\n",
        "\n",
        "Given a pair of word vectors $\\mathbf{w}_a$ and $\\mathbf{w}_b$ for gender-specific words (e.g., 'actor' and 'actoress'), and the gender direction $\\mathbf{g}$, the equalization adjusts both vectors so that they are equidistant to the bias direction. The key steps involve:\n",
        "\n",
        "1. Calculate the mean vector $$\\mu = \\frac{\\mathbf{w}_a + \\mathbf{w}_b}{2}.$$\n",
        "2. Compute the projections of $\\mu$ over the gender direction:\n",
        "   $$\n",
        "   \\begin{align}\n",
        "      \\mu_B &= \\frac{\\langle \\mu, \\mathbf{g} \\rangle}{\\| \\mathbf{g} \\|^2} \\mathbf{g}, \\\\\n",
        "      \\mu_{\\perp} &= \\mu - \\mu_B.\n",
        "   \\end{align}\n",
        "   $$\n",
        "3. Adjust the bias parts of $\\mathbf{w}_{aB}$ and $\\mathbf{w}_{bB}$:\n",
        "   $$\n",
        "   \\begin{align}\n",
        "      \\mathbf{w}_{aB}^{\\text{corrected}} &= \\sqrt{ \\left| 1 - \\| \\mu_{\\perp} \\|^2 \\right| } \\times \\frac{\\mathbf{w}_{aB} - \\mu_B}{|(\\mathbf{w}_{a} - \\mu_{\\perp}) - \\mu_B|}, \\\\\n",
        "      \\mathbf{w}_{bB}^{\\text{corrected}} &= \\sqrt{ \\left| 1 - \\| \\mu_{\\perp} \\|^2 \\right| } \\times \\frac{\\mathbf{w}_{bB} - \\mu_B}{|(\\mathbf{w}_{b} - \\mu_{\\perp}) - \\mu_B|}.\n",
        "   \\end{align}\n",
        "   $$\n",
        "4. Combine the corrected bias parts with $\\mu_{\\perp}$:\n",
        "   $$\n",
        "   \\begin{align}\n",
        "     \\mathbf{w}_{a}^{\\text{corrected}} &= \\mathbf{w}_{aB}^{\\text{corrected}} + \\mu_{\\perp}, \\\\\n",
        "     \\mathbf{w}_{b}^{\\text{corrected}} &= \\mathbf{w}_{bB}^{\\text{corrected}} + \\mu_{\\perp}.\n",
        "   \\end{align}\n",
        "   $$"
      ]
    },
    {
      "cell_type": "code",
      "execution_count": 41,
      "metadata": {
        "id": "PUMDGtq1YadW"
      },
      "outputs": [],
      "source": [
        "def equalize(w_a, w_b, g):\n",
        "    \"\"\"\n",
        "    Equalize the word vectors for a pair of gender-specific words.\n",
        "\n",
        "    :param w_a, w_b: Word vectors for the gender-specific pair.\n",
        "    :param g: The gender direction vector.\n",
        "    :return: Equalized word vectors for the pair.\n",
        "    \"\"\"\n",
        "    # TODO: Implement this function to equalize the word vectors\n",
        "    mu = (w_a + w_b) / 2\n",
        "\n",
        "    mu_B = (torch.dot(mu, g) / torch.norm(g)**2) * g\n",
        "    mu_perp = mu - mu_B\n",
        "\n",
        "    w_aB_corrected = torch.sqrt(torch.abs(1 - torch.norm(mu_perp)**2)) * (w_a - mu_B) / torch.abs((w_a - mu_perp) - mu_B)\n",
        "    w_bB_corrected = torch.sqrt(torch.abs(1 - torch.norm(mu_perp)**2)) * (w_b - mu_B) / torch.abs((w_b - mu_perp) - mu_B)\n",
        "\n",
        "    # Step 4: Combine the corrected bias parts with mu_perp\n",
        "    w_a_corrected = w_aB_corrected + mu_perp\n",
        "    w_b_corrected = w_bB_corrected + mu_perp\n",
        "    return w_a_corrected, w_b_corrected"
      ]
    },
    {
      "cell_type": "code",
      "execution_count": 42,
      "metadata": {
        "id": "yEjmn6beYadW",
        "colab": {
          "base_uri": "https://localhost:8080/"
        },
        "outputId": "8de57c21-c05e-4435-ab0f-675ea6dfb455"
      },
      "outputs": [
        {
          "output_type": "stream",
          "name": "stdout",
          "text": [
            "Cosine similarity before equalization:\n",
            "  tensor([0.0319]) (actor)\n",
            "  tensor([0.4012]) (actress)\n",
            "Cosine similarity after equalization:\n",
            "  tensor([-0.0225]) (actor)\n",
            "  tensor([0.0294]) (actress)\n"
          ]
        }
      ],
      "source": [
        "w_a, w_b = glove['actor'], glove['actress']\n",
        "equalized_vectors = equalize(w_a, w_b, gender_vector)\n",
        "print('Cosine similarity before equalization:')\n",
        "print(f'  {cosine_similarity(w_a.unsqueeze(0), gender_vector.unsqueeze(0))} (actor)')\n",
        "print(f'  {cosine_similarity(w_b.unsqueeze(0), gender_vector.unsqueeze(0))} (actress)')\n",
        "print('Cosine similarity after equalization:')\n",
        "print(f'  {cosine_similarity(equalized_vectors[0].unsqueeze(0), gender_vector.unsqueeze(0))} (actor)')\n",
        "print(f'  {cosine_similarity(equalized_vectors[1].unsqueeze(0), gender_vector.unsqueeze(0))} (actress)')"
      ]
    }
  ],
  "metadata": {
    "kernelspec": {
      "display_name": "Python 3",
      "name": "python3"
    },
    "language_info": {
      "codemirror_mode": {
        "name": "ipython",
        "version": 3
      },
      "file_extension": ".py",
      "mimetype": "text/x-python",
      "name": "python",
      "nbconvert_exporter": "python",
      "pygments_lexer": "ipython3",
      "version": "3.9.16"
    },
    "colab": {
      "provenance": [],
      "gpuType": "T4"
    },
    "accelerator": "GPU"
  },
  "nbformat": 4,
  "nbformat_minor": 0
}